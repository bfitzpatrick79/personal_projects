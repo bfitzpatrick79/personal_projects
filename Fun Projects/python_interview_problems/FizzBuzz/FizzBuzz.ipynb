{
 "cells": [
  {
   "cell_type": "code",
   "execution_count": 35,
   "metadata": {},
   "outputs": [],
   "source": [
    "# Generate a range of numbers. Whenever a number is divisible by 3, print fizz; by 5 print buzz; by 15, print fizzbuzz;\n",
    "# else print the number.\n",
    "\n",
    "# contains a few ways to do it, plus some numerical analysis of the relative quantities of fizz, buzz, and fizz_buzz\n",
    "\n",
    "import numpy as np\n",
    "import matplotlib.pyplot as plt"
   ]
  },
  {
   "cell_type": "code",
   "execution_count": 36,
   "metadata": {},
   "outputs": [
    {
     "name": "stdout",
     "output_type": "stream",
     "text": [
      "over what range would you like to output fizzbuzz?: 30\n"
     ]
    }
   ],
   "source": [
    "num_range = input('over what range would you like to output fizzbuzz?: ')\n",
    "num_range = int(num_range) + 1\n",
    "f = 'Fizz'\n",
    "b = 'Buzz'\n",
    "fb = f + b"
   ]
  },
  {
   "cell_type": "code",
   "execution_count": 37,
   "metadata": {
    "scrolled": true
   },
   "outputs": [
    {
     "name": "stdout",
     "output_type": "stream",
     "text": [
      "------------\n",
      "0 | FizzBuzz\n",
      "1 | 1\n",
      "2 | 2\n",
      "3 | Fizz\n",
      "4 | 4\n",
      "5 | Buzz\n",
      "6 | Fizz\n",
      "7 | 7\n",
      "8 | 8\n",
      "9 | Fizz\n",
      "10 | Buzz\n",
      "11 | 11\n",
      "12 | Fizz\n",
      "13 | 13\n",
      "14 | 14\n",
      "15 | FizzBuzz\n",
      "16 | 16\n",
      "17 | 17\n",
      "18 | Fizz\n",
      "19 | 19\n",
      "20 | Buzz\n",
      "21 | Fizz\n",
      "22 | 22\n",
      "23 | 23\n",
      "24 | Fizz\n",
      "25 | Buzz\n",
      "26 | 26\n",
      "27 | Fizz\n",
      "28 | 28\n",
      "29 | 29\n",
      "30 | FizzBuzz\n"
     ]
    }
   ],
   "source": [
    "# Method 1: for loop\n",
    "print('------------')\n",
    "for i in range(num_range):\n",
    "    if i % 3 == 0 and i % 5 == 0:\n",
    "        print(str(i) + ' | ' + str(fb))\n",
    "    elif i % 3 == 0:\n",
    "        print(str(i) + ' | ' + str(f))\n",
    "    elif i % 5 == 0:\n",
    "        print(str(i) + ' | ' + str(b))\n",
    "    else:\n",
    "        print(str(i) + ' | ' + str(i))"
   ]
  },
  {
   "cell_type": "code",
   "execution_count": 38,
   "metadata": {},
   "outputs": [
    {
     "name": "stdout",
     "output_type": "stream",
     "text": [
      "------------\n",
      "0 | FizzBuzz\n",
      "1 | 1\n",
      "2 | 2\n",
      "3 | Fizz\n",
      "4 | 4\n",
      "5 | Buzz\n",
      "6 | Fizz\n",
      "7 | 7\n",
      "8 | 8\n",
      "9 | Fizz\n",
      "10 | Buzz\n",
      "11 | 11\n",
      "12 | Fizz\n",
      "13 | 13\n",
      "14 | 14\n",
      "15 | FizzBuzz\n",
      "16 | 16\n",
      "17 | 17\n",
      "18 | Fizz\n",
      "19 | 19\n",
      "20 | Buzz\n",
      "21 | Fizz\n",
      "22 | 22\n",
      "23 | 23\n",
      "24 | Fizz\n",
      "25 | Buzz\n",
      "26 | 26\n",
      "27 | Fizz\n",
      "28 | 28\n",
      "29 | 29\n",
      "30 | FizzBuzz\n"
     ]
    }
   ],
   "source": [
    "# Method 2: String Concatenation\n",
    "print('------------')\n",
    "for i in range(num_range):\n",
    "    string = \"\"\n",
    "\n",
    "    if i % 3 == 0:\n",
    "        string += \"Fizz\"\n",
    "    if i % 5 == 0:\n",
    "        string += \"Buzz\"\n",
    "    \n",
    "    print(str(i) + ' | ' + str((string or i)))"
   ]
  },
  {
   "cell_type": "code",
   "execution_count": 39,
   "metadata": {},
   "outputs": [
    {
     "name": "stdout",
     "output_type": "stream",
     "text": [
      "----------\n",
      "0 | FizzBuzz\n",
      "1 | 1\n",
      "2 | 2\n",
      "3 | Fizz\n",
      "4 | 4\n",
      "5 | Buzz\n",
      "6 | Fizz\n",
      "7 | 7\n",
      "8 | 8\n",
      "9 | Fizz\n",
      "10 | Buzz\n",
      "11 | 11\n",
      "12 | Fizz\n",
      "13 | 13\n",
      "14 | 14\n",
      "15 | FizzBuzz\n",
      "16 | 16\n",
      "17 | 17\n",
      "18 | Fizz\n",
      "19 | 19\n",
      "20 | Buzz\n",
      "21 | Fizz\n",
      "22 | 22\n",
      "23 | 23\n",
      "24 | Fizz\n",
      "25 | Buzz\n",
      "26 | 26\n",
      "27 | Fizz\n",
      "28 | 28\n",
      "29 | 29\n",
      "30 | FizzBuzz\n"
     ]
    }
   ],
   "source": [
    "# Method 3 Ternary Else\n",
    "print('----------')\n",
    "for i in range(num_range):\n",
    "    string = \"Fizz\" if i % 3 == 0 else \"\"\n",
    "    string += \"Buzz\" if i % 5 == 0 else \"\"\n",
    "    \n",
    "    if string == \"\":\n",
    "        print(str(i) + \" | \" + str(i))\n",
    "    else:\n",
    "        print(str(i) + \" | \" + string)"
   ]
  },
  {
   "cell_type": "code",
   "execution_count": 63,
   "metadata": {},
   "outputs": [],
   "source": [
    "# Analysis\n",
    "\n",
    "#First, reset the num_range in a convient place, then generate a list for fizzbuzz\n",
    "\n",
    "num_range = 5000 + 1\n",
    "list_fizzbuzz = []\n",
    "\n",
    "for i in range(num_range):\n",
    "    if i % 3 == 0 and i % 5 == 0:\n",
    "        list_fizzbuzz.append(fb)\n",
    "    elif i % 3 == 0:\n",
    "         list_fizzbuzz.append(f)\n",
    "    elif i % 5 == 0:\n",
    "         list_fizzbuzz.append(b)\n",
    "    else:\n",
    "         list_fizzbuzz.append(i)"
   ]
  },
  {
   "cell_type": "code",
   "execution_count": 64,
   "metadata": {},
   "outputs": [
    {
     "name": "stdout",
     "output_type": "stream",
     "text": [
      "1333 667 334 2667 2334\n"
     ]
    }
   ],
   "source": [
    "fizzbuzz = 0\n",
    "fizz = 0\n",
    "buzz = 0\n",
    "interger = 0\n",
    "\n",
    "for i in list_fizzbuzz:\n",
    "    if i == 'Fizz':\n",
    "        fizz += 1\n",
    "    elif i == 'Buzz':\n",
    "        buzz += 1\n",
    "    elif i == 'FizzBuzz':\n",
    "        fizzbuzz += 1\n",
    "    else:\n",
    "        interger += 1\n",
    "\n",
    "fb_count = fizzbuzz + fizz + buzz\n",
    "\n",
    "print( fizz, buzz, fizzbuzz, interger, fb_count)"
   ]
  },
  {
   "cell_type": "code",
   "execution_count": 65,
   "metadata": {},
   "outputs": [
    {
     "data": {
      "image/png": "[encoded data removed]",
      "text/plain": [
       "<Figure size 432x288 with 1 Axes>"
      ]
     },
     "metadata": {
      "needs_background": "light"
     },
     "output_type": "display_data"
    }
   ],
   "source": [
    "x_values = ['fizz', 'buzz', 'fizzbuzz', 'fb_count', 'interger']\n",
    "y_values = [fizz, buzz, fizzbuzz, fb_count, interger]\n",
    "\n",
    "plt.bar(x_values, y_values)\n",
    "plt.title('frequency out of ' + str(num_range -1))\n",
    "plt.show()"
   ]
  },
  {
   "cell_type": "code",
   "execution_count": null,
   "metadata": {},
   "outputs": [],
   "source": []
  }
 ],
 "metadata": {
  "kernelspec": {
   "display_name": "Python 3",
   "language": "python",
   "name": "python3"
  },
  "language_info": {
   "codemirror_mode": {
    "name": "ipython",
    "version": 3
   },
   "file_extension": ".py",
   "mimetype": "text/x-python",
   "name": "python",
   "nbconvert_exporter": "python",
   "pygments_lexer": "ipython3",
   "version": "3.6.10"
  }
 },
 "nbformat": 4,
 "nbformat_minor": 4
}
