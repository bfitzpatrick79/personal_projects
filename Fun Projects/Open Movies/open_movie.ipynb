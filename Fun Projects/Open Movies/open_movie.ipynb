{
 "cells": [
  {
   "cell_type": "code",
   "execution_count": 1,
   "metadata": {},
   "outputs": [],
   "source": [
    "import pandas as pd\n",
    "import omdb\n",
    "omdb.set_default('apikey', '52d1ee6')\n",
    "import matplotlib.pyplot as plt\n",
    "plt.style.use('fivethirtyeight')"
   ]
  },
  {
   "cell_type": "code",
   "execution_count": 2,
   "metadata": {},
   "outputs": [
    {
     "data": {
      "text/html": [
       "<div>\n",
       "<style scoped>\n",
       "    .dataframe tbody tr th:only-of-type {\n",
       "        vertical-align: middle;\n",
       "    }\n",
       "\n",
       "    .dataframe tbody tr th {\n",
       "        vertical-align: top;\n",
       "    }\n",
       "\n",
       "    .dataframe thead th {\n",
       "        text-align: right;\n",
       "    }\n",
       "</style>\n",
       "<table border=\"1\" class=\"dataframe\">\n",
       "  <thead>\n",
       "    <tr style=\"text-align: right;\">\n",
       "      <th></th>\n",
       "      <th>Type</th>\n",
       "      <th>Title</th>\n",
       "      <th>Director</th>\n",
       "    </tr>\n",
       "  </thead>\n",
       "  <tbody>\n",
       "    <tr>\n",
       "      <th>0</th>\n",
       "      <td>Movie</td>\n",
       "      <td>Perfect Blue</td>\n",
       "      <td>Sartoshi Kon</td>\n",
       "    </tr>\n",
       "    <tr>\n",
       "      <th>1</th>\n",
       "      <td>Movie</td>\n",
       "      <td>Mellennium Actress</td>\n",
       "      <td>Sartoshi Kon</td>\n",
       "    </tr>\n",
       "    <tr>\n",
       "      <th>2</th>\n",
       "      <td>Movie</td>\n",
       "      <td>Infernal Affairs</td>\n",
       "      <td>Andrew Lau</td>\n",
       "    </tr>\n",
       "    <tr>\n",
       "      <th>3</th>\n",
       "      <td>Movie</td>\n",
       "      <td>Chungking Express</td>\n",
       "      <td>Wong Kar-wai</td>\n",
       "    </tr>\n",
       "    <tr>\n",
       "      <th>4</th>\n",
       "      <td>Movie</td>\n",
       "      <td>Fallen Angels</td>\n",
       "      <td>Wong Kar-wai</td>\n",
       "    </tr>\n",
       "  </tbody>\n",
       "</table>\n",
       "</div>"
      ],
      "text/plain": [
       "    Type               Title      Director\n",
       "0  Movie        Perfect Blue  Sartoshi Kon\n",
       "1  Movie  Mellennium Actress  Sartoshi Kon\n",
       "2  Movie    Infernal Affairs    Andrew Lau\n",
       "3  Movie   Chungking Express  Wong Kar-wai\n",
       "4  Movie       Fallen Angels  Wong Kar-wai"
      ]
     },
     "execution_count": 2,
     "metadata": {},
     "output_type": "execute_result"
    }
   ],
   "source": [
    "# \n",
    "movie_df = pd.read_excel('Things to watch.xlsx')\n",
    "movie_df.head()"
   ]
  },
  {
   "cell_type": "code",
   "execution_count": 3,
   "metadata": {},
   "outputs": [
    {
     "data": {
      "text/plain": [
       "{'title': 'Perfect Blue',\n",
       " 'year': '1997',\n",
       " 'rated': 'R',\n",
       " 'released': '28 Feb 1998',\n",
       " 'runtime': '81 min',\n",
       " 'genre': 'Animation, Crime, Mystery, Thriller',\n",
       " 'director': 'Satoshi Kon',\n",
       " 'writer': 'Sadayuki Murai (screenplay), Yoshikazu Takeuchi (novel), Rika Takahashi (translation), Lia Sargent (adaptation)',\n",
       " 'actors': 'Junko Iwao, Rica Matsumoto, Shinpachi Tsuji, Masaaki Ôkura',\n",
       " 'plot': 'A pop singer gives up her career to become an actress, but she slowly goes insane when she starts being stalked by an obsessed fan and what seems to be a ghost of her past.',\n",
       " 'language': 'Japanese',\n",
       " 'country': 'Japan',\n",
       " 'awards': '3 wins & 3 nominations.',\n",
       " 'poster': 'https://m.media-amazon.com/images/M/MV5BMmMzOWNhNTYtYmY0My00OGJiLWIzNDUtZWRhNGY0NWFjNzFmXkEyXkFqcGdeQXVyNjUxMDQ0MTg@._V1_SX300.jpg',\n",
       " 'ratings': [{'source': 'Internet Movie Database', 'value': '8.0/10'},\n",
       "  {'source': 'Rotten Tomatoes', 'value': '78%'}],\n",
       " 'metascore': 'N/A',\n",
       " 'imdb_rating': '8.0',\n",
       " 'imdb_votes': '54,949',\n",
       " 'imdb_id': 'tt0156887',\n",
       " 'type': 'movie',\n",
       " 'dvd': 'N/A',\n",
       " 'box_office': 'N/A',\n",
       " 'production': 'Rex Entertainment',\n",
       " 'website': 'N/A',\n",
       " 'response': 'True'}"
      ]
     },
     "execution_count": 3,
     "metadata": {},
     "output_type": "execute_result"
    }
   ],
   "source": [
    "test = omdb.get(title=movie_df.iloc[0][1])\n",
    "test"
   ]
  },
  {
   "cell_type": "code",
   "execution_count": 4,
   "metadata": {},
   "outputs": [
    {
     "name": "stdout",
     "output_type": "stream",
     "text": [
      "['Perfect Blue', 'Mellennium Actress', 'Infernal Affairs', 'Chungking Express', 'Fallen Angels', 'Baron Munchausen', 'Paprika', 'Throne of Blood', 'Harikiri', 'Stalker', 'The Sacrifice', 'Solaris', \"Ivan's Childhood\", 'The Mirror', 'Annihilation ', 'Ran', 'Barry Lyndon', 'Persepolis', 'Near Dark ', \"Boys Don't Cry\", 'Orlando', 'Portrait of Jason', 'You Were Never Really Here', 'Paris is Burning', 'Monster', 'Sugar Cane Alley', 'News From Home', 'Le Bonheur', 'Lost in Translation', \"Winter's Bone\", 'Daisies', 'Beau Travail', 'La Strada', 'La Dolce Vida', '8 1/2']\n"
     ]
    }
   ],
   "source": [
    "# extracting titles from original df\n",
    "title_ls = []\n",
    "for i in movie_df['Title']:\n",
    "        title_ls.append(i)\n",
    "print(title_ls)"
   ]
  },
  {
   "cell_type": "code",
   "execution_count": 5,
   "metadata": {},
   "outputs": [],
   "source": [
    "data_dict = {}\n",
    "for i in title_ls:\n",
    "    data_dict[i] = (omdb.get(title=i))"
   ]
  },
  {
   "cell_type": "code",
   "execution_count": 6,
   "metadata": {},
   "outputs": [],
   "source": [
    "data_df = pd.DataFrame.from_dict(data_dict, orient='index')"
   ]
  },
  {
   "cell_type": "code",
   "execution_count": 19,
   "metadata": {},
   "outputs": [
    {
     "name": "stdout",
     "output_type": "stream",
     "text": [
      "<class 'pandas.core.frame.DataFrame'>\n",
      "Index: 32 entries, Perfect Blue to 8 1/2\n",
      "Data columns (total 25 columns):\n",
      " #   Column       Non-Null Count  Dtype \n",
      "---  ------       --------------  ----- \n",
      " 0   title        32 non-null     object\n",
      " 1   year         32 non-null     object\n",
      " 2   rated        32 non-null     object\n",
      " 3   released     32 non-null     object\n",
      " 4   runtime      32 non-null     object\n",
      " 5   genre        32 non-null     object\n",
      " 6   director     32 non-null     object\n",
      " 7   writer       32 non-null     object\n",
      " 8   actors       32 non-null     object\n",
      " 9   plot         32 non-null     object\n",
      " 10  language     32 non-null     object\n",
      " 11  country      32 non-null     object\n",
      " 12  awards       32 non-null     object\n",
      " 13  poster       32 non-null     object\n",
      " 14  ratings      32 non-null     object\n",
      " 15  metascore    32 non-null     object\n",
      " 16  imdb_rating  32 non-null     object\n",
      " 17  imdb_votes   32 non-null     object\n",
      " 18  imdb_id      32 non-null     object\n",
      " 19  type         32 non-null     object\n",
      " 20  dvd          32 non-null     object\n",
      " 21  box_office   32 non-null     object\n",
      " 22  production   32 non-null     object\n",
      " 23  website      32 non-null     object\n",
      " 24  response     32 non-null     object\n",
      "dtypes: object(25)\n",
      "memory usage: 7.8+ KB\n"
     ]
    }
   ],
   "source": [
    "data_df.info()"
   ]
  },
  {
   "cell_type": "code",
   "execution_count": 21,
   "metadata": {},
   "outputs": [],
   "source": [
    "data_df['year'] = pd.to_datetime(data_df['year'])\n",
    "] = "
   ]
  },
  {
   "cell_type": "code",
   "execution_count": 16,
   "metadata": {},
   "outputs": [
    {
     "data": {
      "text/plain": [
       "<matplotlib.axes._subplots.AxesSubplot at 0x25baf6c0ec8>"
      ]
     },
     "execution_count": 16,
     "metadata": {},
     "output_type": "execute_result"
    },
    {
     "data": {
      "image/png": "[encoded data removed]",
      "text/plain": [
       "<Figure size 432x288 with 1 Axes>"
      ]
     },
     "metadata": {
      "needs_background": "light"
     },
     "output_type": "display_data"
    }
   ],
   "source": [
    "data_df['rated'].value_counts().sort_values().plot(kind='bar')"
   ]
  },
  {
   "cell_type": "code",
   "execution_count": 18,
   "metadata": {},
   "outputs": [
    {
     "ename": "TypeError",
     "evalue": "cannot convert the series to <class 'float'>",
     "output_type": "error",
     "traceback": [
      "\u001b[1;31m---------------------------------------------------------------------------\u001b[0m",
      "\u001b[1;31mTypeError\u001b[0m                                 Traceback (most recent call last)",
      "\u001b[1;32m<ipython-input-18-e2c91dcdb8d1>\u001b[0m in \u001b[0;36m<module>\u001b[1;34m\u001b[0m\n\u001b[1;32m----> 1\u001b[1;33m \u001b[0mfloat\u001b[0m\u001b[1;33m(\u001b[0m\u001b[0mdata_df\u001b[0m\u001b[1;33m[\u001b[0m\u001b[1;34m'imdb_votes'\u001b[0m\u001b[1;33m]\u001b[0m\u001b[1;33m)\u001b[0m\u001b[1;33m.\u001b[0m\u001b[0mplot\u001b[0m\u001b[1;33m(\u001b[0m\u001b[0mkind\u001b[0m\u001b[1;33m=\u001b[0m\u001b[1;34m'box'\u001b[0m\u001b[1;33m,\u001b[0m \u001b[0mpatch_artist\u001b[0m\u001b[1;33m=\u001b[0m\u001b[1;32mTrue\u001b[0m\u001b[1;33m)\u001b[0m\u001b[1;33m\u001b[0m\u001b[1;33m\u001b[0m\u001b[0m\n\u001b[0m",
      "\u001b[1;32m~\\Anaconda3\\lib\\site-packages\\pandas\\core\\series.py\u001b[0m in \u001b[0;36mwrapper\u001b[1;34m(self)\u001b[0m\n\u001b[0;32m    110\u001b[0m         \u001b[1;32mif\u001b[0m \u001b[0mlen\u001b[0m\u001b[1;33m(\u001b[0m\u001b[0mself\u001b[0m\u001b[1;33m)\u001b[0m \u001b[1;33m==\u001b[0m \u001b[1;36m1\u001b[0m\u001b[1;33m:\u001b[0m\u001b[1;33m\u001b[0m\u001b[1;33m\u001b[0m\u001b[0m\n\u001b[0;32m    111\u001b[0m             \u001b[1;32mreturn\u001b[0m \u001b[0mconverter\u001b[0m\u001b[1;33m(\u001b[0m\u001b[0mself\u001b[0m\u001b[1;33m.\u001b[0m\u001b[0miloc\u001b[0m\u001b[1;33m[\u001b[0m\u001b[1;36m0\u001b[0m\u001b[1;33m]\u001b[0m\u001b[1;33m)\u001b[0m\u001b[1;33m\u001b[0m\u001b[1;33m\u001b[0m\u001b[0m\n\u001b[1;32m--> 112\u001b[1;33m         \u001b[1;32mraise\u001b[0m \u001b[0mTypeError\u001b[0m\u001b[1;33m(\u001b[0m\u001b[1;34mf\"cannot convert the series to {converter}\"\u001b[0m\u001b[1;33m)\u001b[0m\u001b[1;33m\u001b[0m\u001b[1;33m\u001b[0m\u001b[0m\n\u001b[0m\u001b[0;32m    113\u001b[0m \u001b[1;33m\u001b[0m\u001b[0m\n\u001b[0;32m    114\u001b[0m     \u001b[0mwrapper\u001b[0m\u001b[1;33m.\u001b[0m\u001b[0m__name__\u001b[0m \u001b[1;33m=\u001b[0m \u001b[1;34mf\"__{converter.__name__}__\"\u001b[0m\u001b[1;33m\u001b[0m\u001b[1;33m\u001b[0m\u001b[0m\n",
      "\u001b[1;31mTypeError\u001b[0m: cannot convert the series to <class 'float'>"
     ]
    }
   ],
   "source": []
  },
  {
   "cell_type": "code",
   "execution_count": null,
   "metadata": {},
   "outputs": [],
   "source": []
  }
 ],
 "metadata": {
  "kernelspec": {
   "display_name": "Python 3",
   "language": "python",
   "name": "python3"
  },
  "language_info": {
   "codemirror_mode": {
    "name": "ipython",
    "version": 3
   },
   "file_extension": ".py",
   "mimetype": "text/x-python",
   "name": "python",
   "nbconvert_exporter": "python",
   "pygments_lexer": "ipython3",
   "version": "3.7.4"
  }
 },
 "nbformat": 4,
 "nbformat_minor": 4
}
