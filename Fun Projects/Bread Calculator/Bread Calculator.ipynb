{
 "cells": [
  {
   "cell_type": "code",
   "execution_count": 1,
   "metadata": {},
   "outputs": [],
   "source": [
    "import datetime \n",
    "import calendar as cal\n",
    "from matplotlib import pyplot as plt"
   ]
  },
  {
   "cell_type": "code",
   "execution_count": 2,
   "metadata": {},
   "outputs": [
    {
     "name": "stdout",
     "output_type": "stream",
     "text": [
      "----------\n",
      "Today's Date\n"
     ]
    },
    {
     "ename": "NameError",
     "evalue": "name 'date' is not defined",
     "output_type": "error",
     "traceback": [
      "\u001b[1;31m---------------------------------------------------------------------------\u001b[0m",
      "\u001b[1;31mNameError\u001b[0m                                 Traceback (most recent call last)",
      "\u001b[1;32m<ipython-input-2-fe1997912319>\u001b[0m in \u001b[0;36m<module>\u001b[1;34m\u001b[0m\n\u001b[0;32m      1\u001b[0m \u001b[0mprint\u001b[0m\u001b[1;33m(\u001b[0m\u001b[1;34m'----------'\u001b[0m\u001b[1;33m)\u001b[0m\u001b[1;33m\u001b[0m\u001b[1;33m\u001b[0m\u001b[0m\n\u001b[0;32m      2\u001b[0m \u001b[0mprint\u001b[0m\u001b[1;33m(\u001b[0m\u001b[1;34m\"Today's Date\"\u001b[0m\u001b[1;33m)\u001b[0m\u001b[1;33m\u001b[0m\u001b[1;33m\u001b[0m\u001b[0m\n\u001b[1;32m----> 3\u001b[1;33m \u001b[0mprint\u001b[0m\u001b[1;33m(\u001b[0m\u001b[0mdate\u001b[0m\u001b[1;33m.\u001b[0m\u001b[0mtoday\u001b[0m\u001b[1;33m(\u001b[0m\u001b[1;33m)\u001b[0m\u001b[1;33m)\u001b[0m\u001b[1;33m\u001b[0m\u001b[1;33m\u001b[0m\u001b[0m\n\u001b[0m\u001b[0;32m      4\u001b[0m \u001b[0mprint\u001b[0m\u001b[1;33m(\u001b[0m\u001b[1;34m'----------'\u001b[0m\u001b[1;33m)\u001b[0m\u001b[1;33m\u001b[0m\u001b[1;33m\u001b[0m\u001b[0m\n\u001b[0;32m      5\u001b[0m \u001b[0mprint\u001b[0m\u001b[1;33m(\u001b[0m\u001b[1;34m''\u001b[0m\u001b[1;33m)\u001b[0m\u001b[1;33m\u001b[0m\u001b[1;33m\u001b[0m\u001b[0m\n",
      "\u001b[1;31mNameError\u001b[0m: name 'date' is not defined"
     ]
    }
   ],
   "source": [
    "print('----------')\n",
    "print(\"Today's Date\")\n",
    "print(date.today())\n",
    "print('----------')\n",
    "print('')\n",
    "print('')"
   ]
  },
  {
   "cell_type": "code",
   "execution_count": 3,
   "metadata": {},
   "outputs": [
    {
     "name": "stdin",
     "output_type": "stream",
     "text": [
      "Using sourdough starter? [y/n]:  y\n",
      "Flour? [grams]:  500\n",
      "What percentage of hydration? [0.70, 0.80]:  0.75\n",
      "what percentage salt? [0.015 low salt, 0.025 regular salt, 0.035 heavy salt]:  0.025\n"
     ]
    }
   ],
   "source": [
    "starter = input('Using sourdough starter? [y/n]: ')\n",
    "flour = float(input('Flour? [grams]: '))\n",
    "hydration = float(input('What percentage of hydration? [0.70, 0.80]: '))\n",
    "salt = float(input('what percentage salt? [0.015 low salt, 0.025 regular salt, 0.035 heavy salt]: '))"
   ]
  },
  {
   "cell_type": "code",
   "execution_count": 4,
   "metadata": {},
   "outputs": [],
   "source": [
    "water_base = flour * hydration\n",
    "salt_total = flour * salt\n",
    "yeast = flour * 0.005"
   ]
  },
  {
   "cell_type": "code",
   "execution_count": 5,
   "metadata": {},
   "outputs": [
    {
     "name": "stdin",
     "output_type": "stream",
     "text": [
      "how much starter are you using? [grams] 200\n"
     ]
    },
    {
     "name": "stdout",
     "output_type": "stream",
     "text": [
      "----------\n",
      "\n",
      "\n",
      "Totals:\n",
      "\n",
      "Starter : 200.0 grams\n",
      "\n",
      "Flour to add : 500.0 grams\n",
      "Total Flour : 590.0 grams\n",
      "Water : 485.0 grams\n",
      "Salt : 12.5 grams\n"
     ]
    }
   ],
   "source": [
    "if starter == 'y':\n",
    "    starter = float(input('how much starter are you using? [grams]'))\n",
    "    starter_water = starter * 0.55\n",
    "    starter_flour = starter * 0.45\n",
    "    water_total = water_base + starter_water\n",
    "    flour_total = flour + starter_flour\n",
    "    print('----------')\n",
    "    print('')\n",
    "    print('')\n",
    "    print('Totals:')\n",
    "    print('')\n",
    "    print(f'Starter : {starter} grams')\n",
    "    print('')\n",
    "    print(f'Flour to add : {flour_total - starter_flour} grams')\n",
    "    print(f'Total Flour : {flour_total} grams')\n",
    "    print(f'Water : {water_total} grams')\n",
    "    print(f'Salt : {salt_total} grams')\n",
    "else:\n",
    "    print('----------')\n",
    "    print('')\n",
    "    print('')\n",
    "    print('Totals:')\n",
    "    print('')\n",
    "    print(f'Flour Total = {flour} grams')\n",
    "    print(f'Water : {water_base} grams')\n",
    "    print(f'Salt : {salt_total} grams')\n",
    "    print(f'Yeast : {yeast} grams')\n",
    "    "
   ]
  },
  {
   "cell_type": "code",
   "execution_count": null,
   "metadata": {},
   "outputs": [],
   "source": [
    "pie_chart = [flour, water_base, salt_total, yeast]\n",
    "pie_label = 'Flour', 'Water', 'Salt', 'Yeast'\n",
    "explode = (0.1, 0.1, 0.4, 0.4)\n",
    "\n",
    "plt.pie(pie_chart, labels= pie_label, explode=explode, autopct='%1.1f%%')\n",
    "plt.show()"
   ]
  },
  {
   "cell_type": "code",
   "execution_count": null,
   "metadata": {},
   "outputs": [],
   "source": [
    "# Theoretical Schedule\n",
    "now = datetime.datetime.now()\n",
    "\n",
    "print('')\n",
    "print('----------')\n",
    "print('')\n",
    "print('')\n",
    "print('Baking Schedule:')\n",
    "print('----------')\n",
    "print('')\n",
    "print('')\n",
    "print(f'{now} | Autolyse flour and water               | (30 min)')\n",
    "print(f'{now + datetime.timedelta(hours=0, minutes=30, seconds=0)} | Add salt and yeast/starter             | (30 min)')\n",
    "delta = now + datetime.timedelta(hours=0, minutes=30, seconds=0)\n",
    "print(f'{delta + datetime.timedelta(hours=0, minutes=30, seconds=0)} | First fold                             | (30 min)')\n",
    "delta = delta + datetime.timedelta(hours=0, minutes=30, seconds=0)\n",
    "print(f'{delta + datetime.timedelta(hours=0, minutes=30, seconds=0)} | Second fold                            | (30 min)')\n",
    "delta = delta + datetime.timedelta(hours=0, minutes=30, seconds=0)\n",
    "print(f'{delta + datetime.timedelta(hours=0, minutes=30, seconds=0)} | Third fold                             | (30 min)')\n",
    "delta = delta + datetime.timedelta(hours=0, minutes=30, seconds=0)\n",
    "\n",
    "print(f'{delta} | Start bulk fermentation                | (5 hours)')\n",
    "delta = delta + datetime.timedelta(hours=5, minutes=0, seconds=0)\n",
    "print(f'{delta} | Shape and move to proofing basket      | (+)')\n",
    "print(f'{delta} | Put dutch oven in and preheat to 475 f | (1 hour 15 min)')\n",
    "delta = delta + datetime.timedelta(hours=1, minutes=15, seconds=0)\n",
    "print(f'{delta} | Put dough in dutch oven with lid on    | (25 min)')\n",
    "delta = delta + datetime.timedelta(hours=0, minutes=25, seconds=0)\n",
    "print(f'{delta} | Remove lid                             | (15 min)')\n",
    "delta = delta + datetime.timedelta(hours=0, minutes=15, seconds=0)\n",
    "print(f'{delta} | Remove from oven and let cool.         | (20 min)')\n",
    "delta = delta + datetime.timedelta(hours=0, minutes=20, seconds=0)"
   ]
  },
  {
   "cell_type": "code",
   "execution_count": null,
   "metadata": {},
   "outputs": [],
   "source": []
  }
 ],
 "metadata": {
  "kernelspec": {
   "display_name": "Python 3",
   "language": "python",
   "name": "python3"
  },
  "language_info": {
   "codemirror_mode": {
    "name": "ipython",
    "version": 3
   },
   "file_extension": ".py",
   "mimetype": "text/x-python",
   "name": "python",
   "nbconvert_exporter": "python",
   "pygments_lexer": "ipython3",
   "version": "3.7.4"
  }
 },
 "nbformat": 4,
 "nbformat_minor": 4
}
