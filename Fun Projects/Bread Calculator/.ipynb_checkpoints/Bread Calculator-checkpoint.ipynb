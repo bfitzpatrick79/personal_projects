{
 "cells": [
  {
   "cell_type": "code",
   "execution_count": 27,
   "metadata": {},
   "outputs": [],
   "source": [
    "from datetime import date\n",
    "import calendar as cal\n",
    "from matplotlib import pyplot as plt"
   ]
  },
  {
   "cell_type": "code",
   "execution_count": 28,
   "metadata": {},
   "outputs": [
    {
     "name": "stdout",
     "output_type": "stream",
     "text": [
      "----------\n",
      "Today's Date\n",
      "2020-05-07\n",
      "----------\n",
      "\n",
      "\n"
     ]
    }
   ],
   "source": [
    "print('----------')\n",
    "print(\"Today's Date\")\n",
    "print(date.today())\n",
    "print('----------')\n",
    "print('')\n",
    "print('')"
   ]
  },
  {
   "cell_type": "code",
   "execution_count": 5,
   "metadata": {},
   "outputs": [
    {
     "name": "stdin",
     "output_type": "stream",
     "text": [
      "Using sourdough starter? [y/n]:  n\n",
      "Flour? [grams]:  750\n",
      "What percentage of hydration? [0.70, 0.80]:  0.70\n",
      "what percentage salt? [0.015 low salt, 0.025 regular salt, 0.035 heavy salt]:  0.025\n"
     ]
    }
   ],
   "source": [
    "starter = input('Using sourdough starter? [y/n]: ')\n",
    "flour = float(input('Flour? [grams]: '))\n",
    "hydration = float(input('What percentage of hydration? [0.70, 0.80]: '))\n",
    "salt = float(input('what percentage salt? [0.015 low salt, 0.025 regular salt, 0.035 heavy salt]: '))"
   ]
  },
  {
   "cell_type": "code",
   "execution_count": 6,
   "metadata": {},
   "outputs": [],
   "source": [
    "water_base = flour * hydration\n",
    "salt_total = flour * salt\n",
    "yeast = flour * 0.005"
   ]
  },
  {
   "cell_type": "code",
   "execution_count": 7,
   "metadata": {},
   "outputs": [
    {
     "name": "stdout",
     "output_type": "stream",
     "text": [
      "----------\n",
      "\n",
      "\n",
      "Totals:\n",
      "\n",
      "Flour Total = 750.0 grams\n",
      "Water : 525.0 grams\n",
      "Salt : 18.75 grams\n",
      "Yeast : 3.75 grams\n"
     ]
    }
   ],
   "source": [
    "if starter == 'y':\n",
    "    starter = float(input('how much starter are you using? [grams]'))\n",
    "    starter_water = starter * 0.55\n",
    "    starter_flour = starter * 0.45\n",
    "    water_total = water_base + starter_water\n",
    "    flour_total = flour + starter_flour\n",
    "    print('----------')\n",
    "    print('')\n",
    "    print('')\n",
    "    print('Totals:')\n",
    "    print('')\n",
    "    print(f'Starter : {starter} grams')\n",
    "    print('')\n",
    "    print(f'Flour to add : {flour_total - starter_flour} grams')\n",
    "    print(f'Total Flour : {flour_total} grams')\n",
    "    print(f'Water : {water_total} grams')\n",
    "    print(f'Salt : {salt_total} grams')\n",
    "else:\n",
    "    print('----------')\n",
    "    print('')\n",
    "    print('')\n",
    "    print('Totals:')\n",
    "    print('')\n",
    "    print(f'Flour Total = {flour} grams')\n",
    "    print(f'Water : {water_base} grams')\n",
    "    print(f'Salt : {salt_total} grams')\n",
    "    print(f'Yeast : {yeast} grams')\n",
    "    "
   ]
  },
  {
   "cell_type": "code",
   "execution_count": 14,
   "metadata": {},
   "outputs": [
    {
     "data": {
      "image/png": "[encoded data removed]",
      "text/plain": [
       "<Figure size 432x288 with 1 Axes>"
      ]
     },
     "metadata": {},
     "output_type": "display_data"
    }
   ],
   "source": [
    "pie_chart = [flour, water_base, salt_total, yeast]\n",
    "pie_label = 'Flour', 'Water', 'Salt', 'Yeast'\n",
    "explode = (0.1, 0.1, 0.4, 0.4)\n",
    "\n",
    "plt.pie(pie_chart, labels= pie_label, explode=explode, autopct='%1.1f%%')\n",
    "plt.show()"
   ]
  },
  {
   "cell_type": "code",
   "execution_count": 15,
   "metadata": {},
   "outputs": [
    {
     "name": "stdout",
     "output_type": "stream",
     "text": [
      "\n",
      "----------\n",
      "\n",
      "\n",
      "Baking Schedule:\n",
      "----------\n",
      "\n",
      "\n",
      "2020-05-07 09:41:04.340580 | Autolyse flour and water               | (30 min)\n",
      "2020-05-07 10:11:04.340580 | Add salt and yeast/starter             | (30 min)\n",
      "2020-05-07 10:41:04.340580 | First fold                             | (30 min)\n",
      "2020-05-07 11:11:04.340580 | Second fold                            | (30 min)\n",
      "2020-05-07 11:41:04.340580 | Third fold                             | (30 min)\n",
      "2020-05-07 11:41:04.340580 | Start bulk fermentation                | (5 hours)\n",
      "2020-05-07 16:41:04.340580 | Shape and move to proofing basket      | (+)\n",
      "2020-05-07 16:41:04.340580 | Put dutch oven in and preheat to 475 f | (1 hour 15 min)\n",
      "2020-05-07 17:56:04.340580 | Put dough in dutch oven with lid on    | (25 min)\n",
      "2020-05-07 18:21:04.340580 | Remove lid                             | (15 min)\n",
      "2020-05-07 18:36:04.340580 | Remove from oven and let cool.         | (20 min)\n"
     ]
    }
   ],
   "source": [
    "# Theoretical Schedule\n",
    "now = datetime.datetime.now()\n",
    "\n",
    "print('')\n",
    "print('----------')\n",
    "print('')\n",
    "print('')\n",
    "print('Baking Schedule:')\n",
    "print('----------')\n",
    "print('')\n",
    "print('')\n",
    "print(f'{now} | Autolyse flour and water               | (30 min)')\n",
    "print(f'{now + datetime.timedelta(hours=0, minutes=30, seconds=0)} | Add salt and yeast/starter             | (30 min)')\n",
    "delta = now + datetime.timedelta(hours=0, minutes=30, seconds=0)\n",
    "print(f'{delta + datetime.timedelta(hours=0, minutes=30, seconds=0)} | First fold                             | (30 min)')\n",
    "delta = delta + datetime.timedelta(hours=0, minutes=30, seconds=0)\n",
    "print(f'{delta + datetime.timedelta(hours=0, minutes=30, seconds=0)} | Second fold                            | (30 min)')\n",
    "delta = delta + datetime.timedelta(hours=0, minutes=30, seconds=0)\n",
    "print(f'{delta + datetime.timedelta(hours=0, minutes=30, seconds=0)} | Third fold                             | (30 min)')\n",
    "delta = delta + datetime.timedelta(hours=0, minutes=30, seconds=0)\n",
    "\n",
    "print(f'{delta} | Start bulk fermentation                | (5 hours)')\n",
    "delta = delta + datetime.timedelta(hours=5, minutes=0, seconds=0)\n",
    "print(f'{delta} | Shape and move to proofing basket      | (+)')\n",
    "print(f'{delta} | Put dutch oven in and preheat to 475 f | (1 hour 15 min)')\n",
    "delta = delta + datetime.timedelta(hours=1, minutes=15, seconds=0)\n",
    "print(f'{delta} | Put dough in dutch oven with lid on    | (25 min)')\n",
    "delta = delta + datetime.timedelta(hours=0, minutes=25, seconds=0)\n",
    "print(f'{delta} | Remove lid                             | (15 min)')\n",
    "delta = delta + datetime.timedelta(hours=0, minutes=15, seconds=0)\n",
    "print(f'{delta} | Remove from oven and let cool.         | (20 min)')\n",
    "delta = delta + datetime.timedelta(hours=0, minutes=20, seconds=0)"
   ]
  },
  {
   "cell_type": "code",
   "execution_count": null,
   "metadata": {},
   "outputs": [],
   "source": []
  }
 ],
 "metadata": {
  "kernelspec": {
   "display_name": "Python 3",
   "language": "python",
   "name": "python3"
  },
  "language_info": {
   "codemirror_mode": {
    "name": "ipython",
    "version": 3
   },
   "file_extension": ".py",
   "mimetype": "text/x-python",
   "name": "python",
   "nbconvert_exporter": "python",
   "pygments_lexer": "ipython3",
   "version": "3.7.4"
  }
 },
 "nbformat": 4,
 "nbformat_minor": 4
}
