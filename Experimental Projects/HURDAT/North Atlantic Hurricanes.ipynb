{
 "cells": [
  {
   "cell_type": "code",
   "execution_count": 1,
   "metadata": {},
   "outputs": [],
   "source": [
    "import datetime as dt\n",
    "import pandas as pd\n",
    "import matplotlib.pyplot as plt\n",
    "plt.style.use('fivethirtyeight')"
   ]
  },
  {
   "cell_type": "code",
   "execution_count": 2,
   "metadata": {},
   "outputs": [],
   "source": [
    "url = 'https://www.aoml.noaa.gov/hrd/hurdat/All_U.S._Hurricanes.html'\n",
    "scrape = pd.read_html(url, header=2)\n",
    "hurdat_df = scrape[1]"
   ]
  },
  {
   "cell_type": "code",
   "execution_count": 3,
   "metadata": {},
   "outputs": [
    {
     "name": "stdout",
     "output_type": "stream",
     "text": [
      "<class 'pandas.core.frame.DataFrame'>\n",
      "RangeIndex: 346 entries, 0 to 345\n",
      "Data columns (total 16 columns):\n",
      " #   Column                                  Non-Null Count  Dtype \n",
      "---  ------                                  --------------  ----- \n",
      " 0   Year                                    345 non-null    object\n",
      " 1   Month                                   345 non-null    object\n",
      " 2   States Affected and Category by States  345 non-null    object\n",
      " 3   Highest Saffir- Simpson U.S. Category   345 non-null    object\n",
      " 4   Central Pressure (mb)                   345 non-null    object\n",
      " 5   Max Wind (kt)                           345 non-null    object\n",
      " 6   Name                                    344 non-null    object\n",
      " 7   Unnamed: 7                              50 non-null     object\n",
      " 8   Unnamed: 8                              50 non-null     object\n",
      " 9   Unnamed: 9                              50 non-null     object\n",
      " 10  Unnamed: 10                             50 non-null     object\n",
      " 11  Unnamed: 11                             50 non-null     object\n",
      " 12  Unnamed: 12                             50 non-null     object\n",
      " 13  Unnamed: 13                             17 non-null     object\n",
      " 14  Unnamed: 14                             17 non-null     object\n",
      " 15  Unnamed: 15                             17 non-null     object\n",
      "dtypes: object(16)\n",
      "memory usage: 43.4+ KB\n"
     ]
    }
   ],
   "source": [
    "hurdat_df.info()"
   ]
  },
  {
   "cell_type": "code",
   "execution_count": 4,
   "metadata": {},
   "outputs": [
    {
     "data": {
      "text/html": [
       "<div>\n",
       "<style scoped>\n",
       "    .dataframe tbody tr th:only-of-type {\n",
       "        vertical-align: middle;\n",
       "    }\n",
       "\n",
       "    .dataframe tbody tr th {\n",
       "        vertical-align: top;\n",
       "    }\n",
       "\n",
       "    .dataframe thead th {\n",
       "        text-align: right;\n",
       "    }\n",
       "</style>\n",
       "<table border=\"1\" class=\"dataframe\">\n",
       "  <thead>\n",
       "    <tr style=\"text-align: right;\">\n",
       "      <th></th>\n",
       "      <th>Year</th>\n",
       "      <th>Month</th>\n",
       "      <th>States Affected and Category by States</th>\n",
       "      <th>Highest Saffir- Simpson U.S. Category</th>\n",
       "      <th>Central Pressure (mb)</th>\n",
       "      <th>Max Wind (kt)</th>\n",
       "      <th>Name</th>\n",
       "      <th>Unnamed: 7</th>\n",
       "      <th>Unnamed: 8</th>\n",
       "      <th>Unnamed: 9</th>\n",
       "      <th>Unnamed: 10</th>\n",
       "      <th>Unnamed: 11</th>\n",
       "      <th>Unnamed: 12</th>\n",
       "      <th>Unnamed: 13</th>\n",
       "      <th>Unnamed: 14</th>\n",
       "      <th>Unnamed: 15</th>\n",
       "    </tr>\n",
       "  </thead>\n",
       "  <tbody>\n",
       "    <tr>\n",
       "      <th>0</th>\n",
       "      <td>1850s</td>\n",
       "      <td>1850s</td>\n",
       "      <td>1850s</td>\n",
       "      <td>1850s</td>\n",
       "      <td>1850s</td>\n",
       "      <td>1850s</td>\n",
       "      <td>1850s</td>\n",
       "      <td>1850s</td>\n",
       "      <td>1850s</td>\n",
       "      <td>1850s</td>\n",
       "      <td>1850s</td>\n",
       "      <td>1850s</td>\n",
       "      <td>1850s</td>\n",
       "      <td>1850s</td>\n",
       "      <td>1850s</td>\n",
       "      <td>1850s</td>\n",
       "    </tr>\n",
       "    <tr>\n",
       "      <th>1</th>\n",
       "      <td>1851</td>\n",
       "      <td>Jun</td>\n",
       "      <td>TX, C1</td>\n",
       "      <td>1</td>\n",
       "      <td>974</td>\n",
       "      <td>80</td>\n",
       "      <td>-----</td>\n",
       "      <td>NaN</td>\n",
       "      <td>NaN</td>\n",
       "      <td>NaN</td>\n",
       "      <td>NaN</td>\n",
       "      <td>NaN</td>\n",
       "      <td>NaN</td>\n",
       "      <td>NaN</td>\n",
       "      <td>NaN</td>\n",
       "      <td>NaN</td>\n",
       "    </tr>\n",
       "    <tr>\n",
       "      <th>2</th>\n",
       "      <td>1851</td>\n",
       "      <td>Aug</td>\n",
       "      <td>FL, NW3; I-GA, 1</td>\n",
       "      <td>3</td>\n",
       "      <td>955</td>\n",
       "      <td>100</td>\n",
       "      <td>\"Great Middle Florida\"</td>\n",
       "      <td>NaN</td>\n",
       "      <td>NaN</td>\n",
       "      <td>NaN</td>\n",
       "      <td>NaN</td>\n",
       "      <td>NaN</td>\n",
       "      <td>NaN</td>\n",
       "      <td>NaN</td>\n",
       "      <td>NaN</td>\n",
       "      <td>NaN</td>\n",
       "    </tr>\n",
       "    <tr>\n",
       "      <th>3</th>\n",
       "      <td>1852</td>\n",
       "      <td>Aug</td>\n",
       "      <td>AL, 3; MS, 3; LA, 2; FL, SW2, NW1</td>\n",
       "      <td>3</td>\n",
       "      <td>961</td>\n",
       "      <td>100</td>\n",
       "      <td>\"Great Mobile\"</td>\n",
       "      <td>NaN</td>\n",
       "      <td>NaN</td>\n",
       "      <td>NaN</td>\n",
       "      <td>NaN</td>\n",
       "      <td>NaN</td>\n",
       "      <td>NaN</td>\n",
       "      <td>NaN</td>\n",
       "      <td>NaN</td>\n",
       "      <td>NaN</td>\n",
       "    </tr>\n",
       "    <tr>\n",
       "      <th>4</th>\n",
       "      <td>1852</td>\n",
       "      <td>Sep</td>\n",
       "      <td>FL, SW1</td>\n",
       "      <td>1</td>\n",
       "      <td>982</td>\n",
       "      <td>70</td>\n",
       "      <td>-----</td>\n",
       "      <td>NaN</td>\n",
       "      <td>NaN</td>\n",
       "      <td>NaN</td>\n",
       "      <td>NaN</td>\n",
       "      <td>NaN</td>\n",
       "      <td>NaN</td>\n",
       "      <td>NaN</td>\n",
       "      <td>NaN</td>\n",
       "      <td>NaN</td>\n",
       "    </tr>\n",
       "  </tbody>\n",
       "</table>\n",
       "</div>"
      ],
      "text/plain": [
       "    Year  Month States Affected and Category by States  \\\n",
       "0  1850s  1850s                                  1850s   \n",
       "1   1851    Jun                                 TX, C1   \n",
       "2   1851    Aug                       FL, NW3; I-GA, 1   \n",
       "3   1852    Aug      AL, 3; MS, 3; LA, 2; FL, SW2, NW1   \n",
       "4   1852    Sep                                FL, SW1   \n",
       "\n",
       "  Highest Saffir- Simpson U.S. Category Central Pressure (mb) Max Wind (kt)  \\\n",
       "0                                 1850s                 1850s         1850s   \n",
       "1                                     1                   974            80   \n",
       "2                                     3                   955           100   \n",
       "3                                     3                   961           100   \n",
       "4                                     1                   982            70   \n",
       "\n",
       "                     Name Unnamed: 7 Unnamed: 8 Unnamed: 9 Unnamed: 10  \\\n",
       "0                   1850s      1850s      1850s      1850s       1850s   \n",
       "1                   -----        NaN        NaN        NaN         NaN   \n",
       "2  \"Great Middle Florida\"        NaN        NaN        NaN         NaN   \n",
       "3          \"Great Mobile\"        NaN        NaN        NaN         NaN   \n",
       "4                   -----        NaN        NaN        NaN         NaN   \n",
       "\n",
       "  Unnamed: 11 Unnamed: 12 Unnamed: 13 Unnamed: 14 Unnamed: 15  \n",
       "0       1850s       1850s       1850s       1850s       1850s  \n",
       "1         NaN         NaN         NaN         NaN         NaN  \n",
       "2         NaN         NaN         NaN         NaN         NaN  \n",
       "3         NaN         NaN         NaN         NaN         NaN  \n",
       "4         NaN         NaN         NaN         NaN         NaN  "
      ]
     },
     "execution_count": 4,
     "metadata": {},
     "output_type": "execute_result"
    }
   ],
   "source": [
    "hurdat_df.head()"
   ]
  },
  {
   "cell_type": "code",
   "execution_count": 5,
   "metadata": {},
   "outputs": [],
   "source": [
    "# dropping unused columns, cleaning up names, data, setting dtypes\n",
    "hurdat_df.drop(['Unnamed: 7', 'Unnamed: 8', 'Unnamed: 9', 'Unnamed: 10', 'Unnamed: 11', 'Unnamed: 12', 'Unnamed: 13', 'Unnamed: 14', 'Unnamed: 15'], inplace=True, axis = 1)\n",
    "index_names = hurdat_df[hurdat_df['Year'] == hurdat_df['Month']].index\n",
    "hurdat_df.drop(index_names, inplace=True)\n",
    "hurdat_df.rename({'Highest Saffir- Simpson U.S. Category': 'Hurricane_Scale', 'Central Pressure (mb)': 'Pressure_mb', 'Max Wind (kt)': 'Max_Wind_kt'}, inplace=True, axis=1)\n",
    "hurdat_df[hurdat_df['Month'] == 'Sp-Oc'] = 'Sep'\n",
    "hurdat_df[hurdat_df['Month'] == 'Jl-Au'] = 'Aug'\n",
    "hurdat_df.dropna(how='all', inplace=True)\n",
    "hurdat_df[hurdat_df['Hurricane_Scale'] == 'None']\n",
    "index_names2 = hurdat_df[hurdat_df['Month'] == 'None'].index\n",
    "index_names3 = hurdat_df[hurdat_df['Hurricane_Scale'] == 'Aug'].index\n",
    "index_names4 = hurdat_df[hurdat_df['Hurricane_Scale'] == 'Sep'].index\n",
    "hurdat_df.drop(index_names2, inplace=True)\n",
    "hurdat_df.drop(index_names3, inplace=True)\n",
    "hurdat_df.drop(index_names4, inplace=True)\n",
    "hurdat_df['Month'] = hurdat_df['Month'].astype(str)\n",
    "hurdat_df['Month'] = hurdat_df['Month'].replace({'Jun': 6, 'Jul': 7, 'Aug': 8, 'Sep': 9, 'Oct': 10, 'Nov': 11})\n",
    "hurdat_df['Month'] = hurdat_df['Month'].astype(int)\n",
    "hurdat_df['Year'] = hurdat_df['Year'].astype(int)\n",
    "hurdat_df['Hurricane_Scale'] = hurdat_df['Hurricane_Scale'].astype('int')\n",
    "hurdat_df['Pressure_mb'] = hurdat_df['Pressure_mb'].astype('int')\n",
    "hurdat_df['Max_Wind_kt'].dropna(inplace=True)\n",
    "index_names5 = hurdat_df[hurdat_df['Max_Wind_kt'] == '-----'].index\n",
    "hurdat_df.drop(index_names5, inplace=True)\n",
    "hurdat_df['Max_Wind_kt'] = hurdat_df['Max_Wind_kt'].astype('int')"
   ]
  },
  {
   "cell_type": "code",
   "execution_count": 6,
   "metadata": {},
   "outputs": [
    {
     "data": {
      "text/plain": [
       "1    112\n",
       "2     79\n",
       "3     56\n",
       "4     25\n",
       "5      3\n",
       "Name: Hurricane_Scale, dtype: int64"
      ]
     },
     "execution_count": 6,
     "metadata": {},
     "output_type": "execute_result"
    }
   ],
   "source": [
    "hurdat_df['Hurricane_Scale'].value_counts()"
   ]
  },
  {
   "cell_type": "code",
   "execution_count": 7,
   "metadata": {},
   "outputs": [
    {
     "data": {
      "text/plain": [
       "<matplotlib.axes._subplots.AxesSubplot at 0x159acb22a88>"
      ]
     },
     "execution_count": 7,
     "metadata": {},
     "output_type": "execute_result"
    },
    {
     "data": {
      "image/png": "[encoded data removed]",
      "text/plain": [
       "<Figure size 864x864 with 1 Axes>"
      ]
     },
     "metadata": {
      "needs_background": "light"
     },
     "output_type": "display_data"
    }
   ],
   "source": [
    "hurdat_df['Hurricane_Scale'].value_counts().plot(kind='bar', figsize = (12,12))"
   ]
  },
  {
   "cell_type": "code",
   "execution_count": 8,
   "metadata": {},
   "outputs": [
    {
     "data": {
      "text/plain": [
       "Int64Index([1886, 1985, 2005, 2004, 1909, 1893, 1926, 1880, 1869, 1887,\n",
       "            ...\n",
       "            1956, 1957, 1958, 1889, 1961, 1965, 1919, 1883, 1980, 1885],\n",
       "           dtype='int64', length=123)"
      ]
     },
     "execution_count": 8,
     "metadata": {},
     "output_type": "execute_result"
    }
   ],
   "source": [
    "hurdat_df['Year'].value_counts().index"
   ]
  },
  {
   "cell_type": "code",
   "execution_count": 9,
   "metadata": {},
   "outputs": [
    {
     "data": {
      "image/png": "[encoded data removed]",
      "text/plain": [
       "<Figure size 432x288 with 1 Axes>"
      ]
     },
     "metadata": {
      "needs_background": "light"
     },
     "output_type": "display_data"
    },
    {
     "data": {
      "text/plain": [
       "<Figure size 864x864 with 0 Axes>"
      ]
     },
     "metadata": {},
     "output_type": "display_data"
    }
   ],
   "source": [
    "plt.bar(hurdat_df['Year'].value_counts().index,hurdat_df['Year'].value_counts())\n",
    "plt.figure(figsize=(12,12))\n",
    "plt.show()"
   ]
  },
  {
   "cell_type": "code",
   "execution_count": 10,
   "metadata": {},
   "outputs": [
    {
     "data": {
      "image/png": "[encoded data removed]",
      "text/plain": [
       "<Figure size 864x864 with 1 Axes>"
      ]
     },
     "metadata": {
      "needs_background": "light"
     },
     "output_type": "display_data"
    }
   ],
   "source": [
    "hurdat_df['Pressure_mb'].plot(kind='box', patch_artist = True, figsize=(12,12))\n",
    "plt.title('Central Pressure in millibars')\n",
    "plt.axhline(hurdat_df['Pressure_mb'].mean(), linestyle = '--')\n",
    "plt.show()"
   ]
  },
  {
   "cell_type": "code",
   "execution_count": 11,
   "metadata": {},
   "outputs": [
    {
     "data": {
      "image/png": "[encoded data removed]",
      "text/plain": [
       "<Figure size 864x864 with 1 Axes>"
      ]
     },
     "metadata": {
      "needs_background": "light"
     },
     "output_type": "display_data"
    }
   ],
   "source": [
    "hurdat_df['Max_Wind_kt'].plot(kind='box', patch_artist = True, figsize=(12,12))\n",
    "plt.title('Max Wind Speed in Kt')\n",
    "plt.axhline(hurdat_df['Max_Wind_kt'].mean(), linestyle = '--')\n",
    "plt.show()"
   ]
  },
  {
   "cell_type": "code",
   "execution_count": null,
   "metadata": {},
   "outputs": [],
   "source": []
  }
 ],
 "metadata": {
  "kernelspec": {
   "display_name": "Python 3",
   "language": "python",
   "name": "python3"
  },
  "language_info": {
   "codemirror_mode": {
    "name": "ipython",
    "version": 3
   },
   "file_extension": ".py",
   "mimetype": "text/x-python",
   "name": "python",
   "nbconvert_exporter": "python",
   "pygments_lexer": "ipython3",
   "version": "3.7.4"
  }
 },
 "nbformat": 4,
 "nbformat_minor": 4
}
