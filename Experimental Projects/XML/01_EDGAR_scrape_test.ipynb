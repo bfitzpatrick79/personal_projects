{
 "cells": [
  {
   "cell_type": "code",
   "execution_count": 4,
   "metadata": {},
   "outputs": [],
   "source": [
    "import requests\n",
    "import urllib\n",
    "from bs4 import BeautifulSoup"
   ]
  },
  {
   "cell_type": "code",
   "execution_count": 7,
   "metadata": {},
   "outputs": [],
   "source": [
    "#test CIK\n",
    "cik = r'/0001786874/'\n",
    "base_url = r\"https://www.sec.gov/Archives/edgar/data\"\n",
    "filing_url = base_url + cik + r'/index.json'"
   ]
  },
  {
   "cell_type": "code",
   "execution_count": 8,
   "metadata": {},
   "outputs": [
    {
     "name": "stdout",
     "output_type": "stream",
     "text": [
      "https://www.sec.gov/Archives/edgar/data/0001786874/0001213900200241500001213900-20-024150-index-headers.html\n",
      "https://www.sec.gov/Archives/edgar/data/0001786874/0001213900200241500001213900-20-024150-index.html\n",
      "https://www.sec.gov/Archives/edgar/data/0001786874/0001213900200241500001213900-20-024150.txt\n",
      "https://www.sec.gov/Archives/edgar/data/0001786874/000121390020024150ea126165-253g2_calledhigher.htm\n"
     ]
    }
   ],
   "source": [
    "# test for 1 filing\n",
    "\n",
    "# retrieves JSON with the 'name' of each filing for the chosen CIK\n",
    "raw_content = requests.get(filing_url)\n",
    "decoded_content = raw_content.json()\n",
    "\n",
    "# gets filing number\n",
    "filing_number = decoded_content['directory']['item'][0]['name']\n",
    "\n",
    "# constructs filing number url\n",
    "filing_url = base_url + cik + filing_number + r'/index.json'\n",
    "\n",
    "# Get request\n",
    "filing_raw = requests.get(filing_url)\n",
    "filing_decode = filing_raw.json()\n",
    "\n",
    "\n",
    "# filter for .html\n",
    "\n",
    "for doc in filing_decode['directory']['item']:\n",
    "    if doc['type'] != 'image2.gif':\n",
    "        doc_name = doc['name']\n",
    "        document_url = base_url + cik + filing_number + doc_name\n",
    "        print(document_url)"
   ]
  },
  {
   "cell_type": "code",
   "execution_count": 10,
   "metadata": {},
   "outputs": [
    {
     "data": {
      "text/plain": [
       "{'directory': {'item': [{'last-modified': '2020-08-28 12:55:27',\n",
       "    'name': '0001213900-20-024150-index-headers.html',\n",
       "    'type': 'text.gif',\n",
       "    'size': ''},\n",
       "   {'last-modified': '2020-08-28 12:55:27',\n",
       "    'name': '0001213900-20-024150-index.html',\n",
       "    'type': 'text.gif',\n",
       "    'size': ''},\n",
       "   {'last-modified': '2020-08-28 12:55:27',\n",
       "    'name': '0001213900-20-024150.txt',\n",
       "    'type': 'text.gif',\n",
       "    'size': ''},\n",
       "   {'last-modified': '2020-08-28 12:55:27',\n",
       "    'name': 'ea126165-253g2_calledhigher.htm',\n",
       "    'type': 'text.gif',\n",
       "    'size': '7978'}],\n",
       "  'name': '/Archives/edgar/data/1786874/000121390020024150',\n",
       "  'parent-dir': '/Archives/edgar/data/1786874'}}"
      ]
     },
     "execution_count": 10,
     "metadata": {},
     "output_type": "execute_result"
    }
   ],
   "source": [
    "filing_decode"
   ]
  },
  {
   "cell_type": "code",
   "execution_count": 4,
   "metadata": {},
   "outputs": [
    {
     "name": "stdout",
     "output_type": "stream",
     "text": [
      "Wall time: 9.15 s\n"
     ]
    }
   ],
   "source": [
    "%%time\n",
    "# Pulling all filings for test CIK\n",
    "url_list = []\n",
    "for filing in decoded_content['directory']['item']:\n",
    "    filing_num = filing['name']\n",
    "    filing_url = base_url + cik + filing_num + r'/index.json'\n",
    "    filing_content = requests.get(filing_url)\n",
    "    filing_content = filing_content.json()\n",
    "    for doc in filing_decode['directory']['item']:\n",
    "        if doc['type'] != 'image2.gif':\n",
    "            doc_name = doc['name']\n",
    "            document_url = base_url + cik + filing_num + doc_name\n",
    "            url_list.append(document_url)\n",
    "    "
   ]
  },
  {
   "cell_type": "code",
   "execution_count": 5,
   "metadata": {},
   "outputs": [
    {
     "data": {
      "text/plain": [
       "['https://www.sec.gov/Archives/edgar/data/0001786874/0001213900200241500001213900-20-024150-index-headers.html',\n",
       " 'https://www.sec.gov/Archives/edgar/data/0001786874/0001213900200241500001213900-20-024150-index.html',\n",
       " 'https://www.sec.gov/Archives/edgar/data/0001786874/0001213900200241500001213900-20-024150.txt',\n",
       " 'https://www.sec.gov/Archives/edgar/data/0001786874/000121390020024150ea126165-253g2_calledhigher.htm',\n",
       " 'https://www.sec.gov/Archives/edgar/data/0001786874/0001213900200235740001213900-20-024150-index-headers.html',\n",
       " 'https://www.sec.gov/Archives/edgar/data/0001786874/0001213900200235740001213900-20-024150-index.html',\n",
       " 'https://www.sec.gov/Archives/edgar/data/0001786874/0001213900200235740001213900-20-024150.txt',\n",
       " 'https://www.sec.gov/Archives/edgar/data/0001786874/000121390020023574ea126165-253g2_calledhigher.htm',\n",
       " 'https://www.sec.gov/Archives/edgar/data/0001786874/9999999994200001710001213900-20-024150-index-headers.html',\n",
       " 'https://www.sec.gov/Archives/edgar/data/0001786874/9999999994200001710001213900-20-024150-index.html',\n",
       " 'https://www.sec.gov/Archives/edgar/data/0001786874/9999999994200001710001213900-20-024150.txt',\n",
       " 'https://www.sec.gov/Archives/edgar/data/0001786874/999999999420000171ea126165-253g2_calledhigher.htm',\n",
       " 'https://www.sec.gov/Archives/edgar/data/0001786874/0001213900200227120001213900-20-024150-index-headers.html',\n",
       " 'https://www.sec.gov/Archives/edgar/data/0001786874/0001213900200227120001213900-20-024150-index.html',\n",
       " 'https://www.sec.gov/Archives/edgar/data/0001786874/0001213900200227120001213900-20-024150.txt',\n",
       " 'https://www.sec.gov/Archives/edgar/data/0001786874/000121390020022712ea126165-253g2_calledhigher.htm',\n",
       " 'https://www.sec.gov/Archives/edgar/data/0001786874/0001213900200209560001213900-20-024150-index-headers.html',\n",
       " 'https://www.sec.gov/Archives/edgar/data/0001786874/0001213900200209560001213900-20-024150-index.html',\n",
       " 'https://www.sec.gov/Archives/edgar/data/0001786874/0001213900200209560001213900-20-024150.txt',\n",
       " 'https://www.sec.gov/Archives/edgar/data/0001786874/000121390020020956ea126165-253g2_calledhigher.htm',\n",
       " 'https://www.sec.gov/Archives/edgar/data/0001786874/0001213900200209510001213900-20-024150-index-headers.html',\n",
       " 'https://www.sec.gov/Archives/edgar/data/0001786874/0001213900200209510001213900-20-024150-index.html',\n",
       " 'https://www.sec.gov/Archives/edgar/data/0001786874/0001213900200209510001213900-20-024150.txt',\n",
       " 'https://www.sec.gov/Archives/edgar/data/0001786874/000121390020020951ea126165-253g2_calledhigher.htm',\n",
       " 'https://www.sec.gov/Archives/edgar/data/0001786874/0000000000200070780001213900-20-024150-index-headers.html',\n",
       " 'https://www.sec.gov/Archives/edgar/data/0001786874/0000000000200070780001213900-20-024150-index.html',\n",
       " 'https://www.sec.gov/Archives/edgar/data/0001786874/0000000000200070780001213900-20-024150.txt',\n",
       " 'https://www.sec.gov/Archives/edgar/data/0001786874/000000000020007078ea126165-253g2_calledhigher.htm',\n",
       " 'https://www.sec.gov/Archives/edgar/data/0001786874/0001213900200181310001213900-20-024150-index-headers.html',\n",
       " 'https://www.sec.gov/Archives/edgar/data/0001786874/0001213900200181310001213900-20-024150-index.html',\n",
       " 'https://www.sec.gov/Archives/edgar/data/0001786874/0001213900200181310001213900-20-024150.txt',\n",
       " 'https://www.sec.gov/Archives/edgar/data/0001786874/000121390020018131ea126165-253g2_calledhigher.htm',\n",
       " 'https://www.sec.gov/Archives/edgar/data/0001786874/0001213900200181280001213900-20-024150-index-headers.html',\n",
       " 'https://www.sec.gov/Archives/edgar/data/0001786874/0001213900200181280001213900-20-024150-index.html',\n",
       " 'https://www.sec.gov/Archives/edgar/data/0001786874/0001213900200181280001213900-20-024150.txt',\n",
       " 'https://www.sec.gov/Archives/edgar/data/0001786874/000121390020018128ea126165-253g2_calledhigher.htm',\n",
       " 'https://www.sec.gov/Archives/edgar/data/0001786874/0000000000200064820001213900-20-024150-index-headers.html',\n",
       " 'https://www.sec.gov/Archives/edgar/data/0001786874/0000000000200064820001213900-20-024150-index.html',\n",
       " 'https://www.sec.gov/Archives/edgar/data/0001786874/0000000000200064820001213900-20-024150.txt',\n",
       " 'https://www.sec.gov/Archives/edgar/data/0001786874/000000000020006482ea126165-253g2_calledhigher.htm',\n",
       " 'https://www.sec.gov/Archives/edgar/data/0001786874/0001213900200165490001213900-20-024150-index-headers.html',\n",
       " 'https://www.sec.gov/Archives/edgar/data/0001786874/0001213900200165490001213900-20-024150-index.html',\n",
       " 'https://www.sec.gov/Archives/edgar/data/0001786874/0001213900200165490001213900-20-024150.txt',\n",
       " 'https://www.sec.gov/Archives/edgar/data/0001786874/000121390020016549ea126165-253g2_calledhigher.htm',\n",
       " 'https://www.sec.gov/Archives/edgar/data/0001786874/0001213900200165460001213900-20-024150-index-headers.html',\n",
       " 'https://www.sec.gov/Archives/edgar/data/0001786874/0001213900200165460001213900-20-024150-index.html',\n",
       " 'https://www.sec.gov/Archives/edgar/data/0001786874/0001213900200165460001213900-20-024150.txt',\n",
       " 'https://www.sec.gov/Archives/edgar/data/0001786874/000121390020016546ea126165-253g2_calledhigher.htm',\n",
       " 'https://www.sec.gov/Archives/edgar/data/0001786874/0000000000200053530001213900-20-024150-index-headers.html',\n",
       " 'https://www.sec.gov/Archives/edgar/data/0001786874/0000000000200053530001213900-20-024150-index.html',\n",
       " 'https://www.sec.gov/Archives/edgar/data/0001786874/0000000000200053530001213900-20-024150.txt',\n",
       " 'https://www.sec.gov/Archives/edgar/data/0001786874/000000000020005353ea126165-253g2_calledhigher.htm',\n",
       " 'https://www.sec.gov/Archives/edgar/data/0001786874/0001665160200006740001213900-20-024150-index-headers.html',\n",
       " 'https://www.sec.gov/Archives/edgar/data/0001786874/0001665160200006740001213900-20-024150-index.html',\n",
       " 'https://www.sec.gov/Archives/edgar/data/0001786874/0001665160200006740001213900-20-024150.txt',\n",
       " 'https://www.sec.gov/Archives/edgar/data/0001786874/000166516020000674ea126165-253g2_calledhigher.htm',\n",
       " 'https://www.sec.gov/Archives/edgar/data/0001786874/0001213900200131670001213900-20-024150-index-headers.html',\n",
       " 'https://www.sec.gov/Archives/edgar/data/0001786874/0001213900200131670001213900-20-024150-index.html',\n",
       " 'https://www.sec.gov/Archives/edgar/data/0001786874/0001213900200131670001213900-20-024150.txt',\n",
       " 'https://www.sec.gov/Archives/edgar/data/0001786874/000121390020013167ea126165-253g2_calledhigher.htm',\n",
       " 'https://www.sec.gov/Archives/edgar/data/0001786874/0001665160200002970001213900-20-024150-index-headers.html',\n",
       " 'https://www.sec.gov/Archives/edgar/data/0001786874/0001665160200002970001213900-20-024150-index.html',\n",
       " 'https://www.sec.gov/Archives/edgar/data/0001786874/0001665160200002970001213900-20-024150.txt',\n",
       " 'https://www.sec.gov/Archives/edgar/data/0001786874/000166516020000297ea126165-253g2_calledhigher.htm',\n",
       " 'https://www.sec.gov/Archives/edgar/data/0001786874/0001665160200000630001213900-20-024150-index-headers.html',\n",
       " 'https://www.sec.gov/Archives/edgar/data/0001786874/0001665160200000630001213900-20-024150-index.html',\n",
       " 'https://www.sec.gov/Archives/edgar/data/0001786874/0001665160200000630001213900-20-024150.txt',\n",
       " 'https://www.sec.gov/Archives/edgar/data/0001786874/000166516020000063ea126165-253g2_calledhigher.htm',\n",
       " 'https://www.sec.gov/Archives/edgar/data/0001786874/0001665160190010780001213900-20-024150-index-headers.html',\n",
       " 'https://www.sec.gov/Archives/edgar/data/0001786874/0001665160190010780001213900-20-024150-index.html',\n",
       " 'https://www.sec.gov/Archives/edgar/data/0001786874/0001665160190010780001213900-20-024150.txt',\n",
       " 'https://www.sec.gov/Archives/edgar/data/0001786874/000166516019001078ea126165-253g2_calledhigher.htm']"
      ]
     },
     "execution_count": 5,
     "metadata": {},
     "output_type": "execute_result"
    }
   ],
   "source": [
    "url_list"
   ]
  },
  {
   "cell_type": "code",
   "execution_count": null,
   "metadata": {},
   "outputs": [],
   "source": []
  }
 ],
 "metadata": {
  "kernelspec": {
   "display_name": "Python 3",
   "language": "python",
   "name": "python3"
  },
  "language_info": {
   "codemirror_mode": {
    "name": "ipython",
    "version": 3
   },
   "file_extension": ".py",
   "mimetype": "text/x-python",
   "name": "python",
   "nbconvert_exporter": "python",
   "pygments_lexer": "ipython3",
   "version": "3.7.4"
  }
 },
 "nbformat": 4,
 "nbformat_minor": 4
}
