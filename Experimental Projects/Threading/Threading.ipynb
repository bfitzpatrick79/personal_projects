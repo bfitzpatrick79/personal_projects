{
 "cells": [
  {
   "cell_type": "code",
   "execution_count": 1,
   "metadata": {},
   "outputs": [],
   "source": [
    "import time\n",
    "import threading"
   ]
  },
  {
   "cell_type": "code",
   "execution_count": 2,
   "metadata": {},
   "outputs": [],
   "source": [
    "start = time.perf_counter()"
   ]
  },
  {
   "cell_type": "code",
   "execution_count": 14,
   "metadata": {},
   "outputs": [],
   "source": [
    "def do_something(seconds):\n",
    "    print(f'sleeping {seconds} second')\n",
    "    time.sleep(seconds)\n",
    "    print('Done')"
   ]
  },
  {
   "cell_type": "code",
   "execution_count": 15,
   "metadata": {},
   "outputs": [],
   "source": [
    "# do_something()"
   ]
  },
  {
   "cell_type": "code",
   "execution_count": 16,
   "metadata": {},
   "outputs": [
    {
     "name": "stderr",
     "output_type": "stream",
     "text": [
      "Exception in thread Thread-28:\n",
      "Traceback (most recent call last):\n",
      "  File \"C:\\Users\\fitzp\\anaconda3\\lib\\threading.py\", line 932, in _bootstrap_inner\n",
      "Exception in thread Thread-29:\n",
      "Traceback (most recent call last):\n",
      "  File \"C:\\Users\\fitzp\\anaconda3\\lib\\threading.py\", line 932, in _bootstrap_inner\n",
      "        self.run()\n",
      "  File \"C:\\Users\\fitzp\\anaconda3\\lib\\threading.py\", line 870, in run\n",
      "self.run()\n",
      "  File \"C:\\Users\\fitzp\\anaconda3\\lib\\threading.py\", line 870, in run\n",
      "    self._target(*self._args, **self._kwargs)\n",
      "TypeError: do_something() missing 1 required positional argument: 'seconds'\n",
      "    self._target(*self._args, **self._kwargs)\n",
      "TypeError: do_something() missing 1 required positional argument: 'seconds'\n"
     ]
    }
   ],
   "source": [
    "t1 = threading.Thread(target=do_something) # pass in the function, don't use () or it will execute\n",
    "t2 = threading.Thread(target=do_something)\n",
    "\n",
    "t1.start() # actually starts the thread\n",
    "t2.start()\n",
    "\n",
    "t1.join() #forces it to complete before moving onward\n",
    "t2.join()"
   ]
  },
  {
   "cell_type": "code",
   "execution_count": 6,
   "metadata": {},
   "outputs": [],
   "source": [
    "finish = time.perf_counter()"
   ]
  },
  {
   "cell_type": "code",
   "execution_count": 7,
   "metadata": {},
   "outputs": [
    {
     "name": "stdout",
     "output_type": "stream",
     "text": [
      "finished in 1.0955083 seconds\n"
     ]
    }
   ],
   "source": [
    "print(f'finished in {finish-start} seconds')"
   ]
  },
  {
   "cell_type": "code",
   "execution_count": 20,
   "metadata": {},
   "outputs": [],
   "source": [
    "start = time.perf_counter()"
   ]
  },
  {
   "cell_type": "code",
   "execution_count": 21,
   "metadata": {},
   "outputs": [
    {
     "name": "stdout",
     "output_type": "stream",
     "text": [
      "sleeping 0.5 second\n",
      "sleeping 0.5 second\n",
      "sleeping 0.5 second\n",
      "sleeping 0.5 second\n",
      "sleeping 0.5 second\n",
      "sleeping 0.5 second\n",
      "sleeping 0.5 second\n",
      "sleeping 0.5 second\n",
      "sleeping 0.5 second\n",
      "sleeping 0.5 second\n",
      "DoneDoneDone\n",
      "Done\n",
      "\n",
      "\n",
      "Done\n",
      "DoneDone\n",
      "Done\n",
      "Done\n",
      "Done\n",
      "\n"
     ]
    }
   ],
   "source": [
    "threads = []\n",
    "for _ in range(10):\n",
    "    t = threading.Thread(target=do_something, args=[0.5]) #if the function is expecting an argument, you can pass it a list of arguments\n",
    "    t.start()\n",
    "    threads.append(t)\n",
    "for thread in threads:\n",
    "    thread.join()"
   ]
  },
  {
   "cell_type": "code",
   "execution_count": 22,
   "metadata": {},
   "outputs": [
    {
     "name": "stdout",
     "output_type": "stream",
     "text": [
      "finished in 0.7338961000000381 seconds\n"
     ]
    }
   ],
   "source": [
    "finish = time.perf_counter()\n",
    "print(f'finished in {finish-start} seconds')"
   ]
  },
  {
   "cell_type": "code",
   "execution_count": 23,
   "metadata": {},
   "outputs": [],
   "source": [
    "import concurrent.futures"
   ]
  },
  {
   "cell_type": "code",
   "execution_count": null,
   "metadata": {},
   "outputs": [],
   "source": [
    "with concurrent.futures.ThreadPoolExecutor() as executor:\n",
    "    f1  = executor.submit(do_something, 2)\n",
    "    f2 = executor.submit(do_something, 1)\n",
    "    \n",
    "    \n",
    "start = time.perf_counter()\n",
    "threads = []\n",
    "for _ in range(10):\n",
    "    t = threading.Thread(target=do_something, args=[0.5]) #if the function is expecting an argument, you can pass it a list of arguments\n",
    "    t.start()\n",
    "    threads.append(t)\n",
    "for thread in threads:\n",
    "    thread.join()\n",
    "finish = time.perf_counter()\n",
    "print(f'finished in {finish-start} seconds')"
   ]
  }
 ],
 "metadata": {
  "kernelspec": {
   "display_name": "Python 3",
   "language": "python",
   "name": "python3"
  },
  "language_info": {
   "codemirror_mode": {
    "name": "ipython",
    "version": 3
   },
   "file_extension": ".py",
   "mimetype": "text/x-python",
   "name": "python",
   "nbconvert_exporter": "python",
   "pygments_lexer": "ipython3",
   "version": "3.8.5"
  }
 },
 "nbformat": 4,
 "nbformat_minor": 4
}
