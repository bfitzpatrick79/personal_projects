{
 "cells": [
  {
   "cell_type": "code",
   "execution_count": 24,
   "metadata": {},
   "outputs": [],
   "source": [
    "import requests\n",
    "import pandas as pd\n",
    "import matplotlib.pyplot as plt\n",
    "plt.style.use('ggplot')"
   ]
  },
  {
   "cell_type": "code",
   "execution_count": 32,
   "metadata": {},
   "outputs": [],
   "source": [
    "bear = 'chi'\n",
    "teams = ['chi', 'det', 'gnb', 'min']\n",
    "# url = f'https://www.pro-football-reference.com/teams/{team}/'\n",
    "# bears = pd.read_html(url, header=1)"
   ]
  },
  {
   "cell_type": "code",
   "execution_count": 44,
   "metadata": {},
   "outputs": [
    {
     "name": "stdout",
     "output_type": "stream",
     "text": [
      "chi\n",
      "{'chi': [     Year    Lg               Tm   W   L  T Div. Finish   Playoffs   PF   PA  \\\n",
      "0    2020   NFL    Chicago Bears   5   1  0    1st of 4        NaN  128  116   \n",
      "1    2019   NFL    Chicago Bears   8   8  0    3rd of 4        NaN  280  298   \n",
      "2    2018   NFL   Chicago Bears*  12   4  0    1st of 4    Lost WC  421  283   \n",
      "3    2017   NFL    Chicago Bears   5  11  0    4th of 4        NaN  264  320   \n",
      "4    2016   NFL    Chicago Bears   3  13  0    4th of 4        NaN  279  399   \n",
      "..    ...   ...              ...  ..  .. ..         ...        ...  ...  ...   \n",
      "102  1924   NFL    Chicago Bears   6   1  4   2nd of 18        NaN  136   55   \n",
      "103  1923   NFL    Chicago Bears   9   2  1   2nd of 20        NaN  123   35   \n",
      "104  1922   NFL    Chicago Bears   9   3  0   2nd of 18        NaN  123   44   \n",
      "105  1921  APFA  Chicago Staleys   9   1  1   1st of 21  Won Champ  128   53   \n",
      "106  1920  APFA  Decatur Staleys  10   1  2   2nd of 14        NaN  164   21   \n",
      "\n",
      "     ... Yds.1 T/G Pts± Yds± out of   MoV   SoS   SRS  OSRS  DSRS  \n",
      "0    ...     7  15   13   20     32   2.0   0.7   2.7  -3.3   6.0  \n",
      "1    ...     8  15   19   21     32  -1.1   0.2  -0.9  -5.4   4.5  \n",
      "2    ...     3   3    4    5     32   8.6  -2.3   6.3   1.5   4.8  \n",
      "3    ...    10  15   20   26     32  -3.5   2.2  -1.3  -4.6   3.3  \n",
      "4    ...    15  31   28   12     32  -7.5   0.0  -7.5  -5.2  -2.3  \n",
      "..   ...   ...  ..  ...  ...    ...   ...   ...   ...   ...   ...  \n",
      "102  ...     1   1    3    1     18   7.4   0.1   7.5   2.7   4.8  \n",
      "103  ...     1   1    4    1     20   7.3  -2.2   5.1   0.5   4.6  \n",
      "104  ...     1   1    3    1     18   6.6  -0.4   6.1   0.0   6.2  \n",
      "105  ...     1   1    4    1     21   6.8  -3.9   2.9   0.4   2.6  \n",
      "106  ...     1   1    5    1     14  11.0  -0.3  10.7   0.7  10.0  \n",
      "\n",
      "[107 rows x 29 columns]]}\n",
      "det\n",
      "{'det': [    Year   Lg                   Tm    W    L    T  Div. Finish  Playoffs  \\\n",
      "0   2020  NFL        Detroit Lions    2    3    0     3rd of 4       NaN   \n",
      "1   2019  NFL        Detroit Lions    3   12    1     4th of 4       NaN   \n",
      "2   2018  NFL        Detroit Lions    6   10    0     4th of 4       NaN   \n",
      "3   2017  NFL        Detroit Lions    9    7    0     2nd of 4       NaN   \n",
      "4   2016  NFL       Detroit Lions*    9    7    0     2nd of 4   Lost WC   \n",
      "..   ...  ...                  ...  ...  ...  ...          ...       ...   \n",
      "92  1932  NFL  Portsmouth Spartans    6    2    4     3rd of 8       NaN   \n",
      "93  1931  NFL  Portsmouth Spartans   11    3    0    2nd of 10       NaN   \n",
      "94   NaN  NaN                  NaN  NaN  NaN  NaN          NaN       NaN   \n",
      "95  Year   Lg                   Tm    W    L    T  Div. Finish  Playoffs   \n",
      "96  1930  NFL  Portsmouth Spartans    5    6    3    7th of 11       NaN   \n",
      "\n",
      "        PF      PA  ...     Yds.1           T/G          Pts±          Yds±  \\\n",
      "0      133     143  ...        21            11            18            23   \n",
      "1      341     423  ...        31            24            24            28   \n",
      "2      324     360  ...        10            23            21            21   \n",
      "3      410     376  ...        27             5            13            19   \n",
      "4      346     358  ...        18            20            21            24   \n",
      "..     ...     ...  ...       ...           ...           ...           ...   \n",
      "92     116      71  ...         1             3             3             5   \n",
      "93     175      77  ...         1             1             2             1   \n",
      "94  Points  Points  ...  Def Rank  Overall Rank  Overall Rank  Overall Rank   \n",
      "95      PF      PA  ...       Yds           T/G          Pts±          Yds±   \n",
      "96     176     161  ...         1             1             5             1   \n",
      "\n",
      "          out of                   MoV                   SoS  \\\n",
      "0             32                  -2.0                   2.3   \n",
      "1             32                  -5.1                  -0.1   \n",
      "2             32                  -2.3                  -0.8   \n",
      "3             32                   2.1                   0.6   \n",
      "4             32                  -0.8                  -0.6   \n",
      "..           ...                   ...                   ...   \n",
      "92             8                   3.8                   0.9   \n",
      "93            10                   7.0                  -2.9   \n",
      "94  Overall Rank  Simple Rating System  Simple Rating System   \n",
      "95        out of                   MoV                   SoS   \n",
      "96            11                   1.1                  -0.7   \n",
      "\n",
      "                     SRS                  OSRS                  DSRS  \n",
      "0                    0.3                   2.7                  -2.4  \n",
      "1                   -5.2                  -1.2                  -4.0  \n",
      "2                   -3.0                  -3.3                   0.3  \n",
      "3                    2.7                   5.2                  -2.5  \n",
      "4                   -1.4                  -1.3                  -0.1  \n",
      "..                   ...                   ...                   ...  \n",
      "92                   4.7                   1.8                   2.8  \n",
      "93                   4.1                   1.8                   2.3  \n",
      "94  Simple Rating System  Simple Rating System  Simple Rating System  \n",
      "95                   SRS                  OSRS                  DSRS  \n",
      "96                   0.4                   1.8                  -1.4  \n",
      "\n",
      "[97 rows x 29 columns]]}\n",
      "gnb\n",
      "{'gnb': [     Year    Lg                  Tm   W  L  T Div. Finish   Playoffs   PF  \\\n",
      "0    2020   NFL   Green Bay Packers   4  1  0    2nd of 4        NaN  162   \n",
      "1    2019   NFL  Green Bay Packers*  13  3  0    1st of 4  Lost Conf  376   \n",
      "2    2018   NFL   Green Bay Packers   6  9  1    3rd of 4        NaN  376   \n",
      "3    2017   NFL   Green Bay Packers   7  9  0    3rd of 4        NaN  320   \n",
      "4    2016   NFL  Green Bay Packers*  10  6  0    1st of 4  Lost Conf  432   \n",
      "..    ...   ...                 ...  .. .. ..         ...        ...  ...   \n",
      "101  1925   NFL   Green Bay Packers   8  5  0   9th of 20        NaN  151   \n",
      "102  1924   NFL   Green Bay Packers   7  4  0   6th of 18        NaN  108   \n",
      "103  1923   NFL   Green Bay Packers   7  2  1   3rd of 20        NaN   85   \n",
      "104  1922   NFL   Green Bay Packers   4  3  3   7th of 18        NaN   70   \n",
      "105  1921  APFA   Green Bay Packers   3  2  1   6th of 21        NaN   70   \n",
      "\n",
      "      PA  ... Yds.1 T/G Pts± Yds± out of   MoV   SoS   SRS  OSRS  DSRS  \n",
      "0    139  ...    14  13   11    8     32   4.6   2.6   7.2   6.4   0.8  \n",
      "1    313  ...    18   3    9   16     32   3.9  -0.7   3.2   0.6   2.6  \n",
      "2    400  ...    18  19   19   14     32  -1.5  -1.2  -2.7   0.0  -2.7  \n",
      "3    384  ...    22  20   23   27     32  -4.0   2.1  -1.9  -0.3  -1.6  \n",
      "4    388  ...    22   6    8   16     32   2.8   0.1   2.8   4.9  -2.0  \n",
      "..   ...  ...   ...  ..  ...  ...    ...   ...   ...   ...   ...   ...  \n",
      "101  110  ...     1   1    7    1     20   3.2  -1.8   1.3   0.6   0.8  \n",
      "102   38  ...     1   1    5    1     18   6.4   2.8   9.2   2.0   7.2  \n",
      "103   34  ...     1   1    5    1     20   5.1  -2.1   3.0   1.1   1.8  \n",
      "104   54  ...     1   1   10    1     18   1.6  -0.5   1.1  -3.1   4.2  \n",
      "105   55  ...     1   1    9    1     21   2.5  -2.4   0.1   1.5  -1.4  \n",
      "\n",
      "[106 rows x 29 columns]]}\n",
      "min\n",
      "{'min': [    Year   Lg                  Tm    W    L    T  Div. Finish   Playoffs  \\\n",
      "0   2020  NFL   Minnesota Vikings    1    5    0     4th of 4        NaN   \n",
      "1   2019  NFL  Minnesota Vikings*   10    6    0     2nd of 4   Lost Div   \n",
      "2   2018  NFL   Minnesota Vikings    8    7    1     2nd of 4        NaN   \n",
      "3   2017  NFL  Minnesota Vikings*   13    3    0     1st of 4  Lost Conf   \n",
      "4   2016  NFL   Minnesota Vikings    8    8    0     3rd of 4        NaN   \n",
      "..   ...  ...                 ...  ...  ...  ...          ...        ...   \n",
      "59  1963  NFL   Minnesota Vikings    5    8    1     4th of 7        NaN   \n",
      "60  1962  NFL   Minnesota Vikings    2   11    1     6th of 7        NaN   \n",
      "61  1961  NFL   Minnesota Vikings    3   11    0     7th of 7        NaN   \n",
      "62   NaN  NaN                 NaN  NaN  NaN  NaN          NaN        NaN   \n",
      "63  Year   Lg                  Tm    W    L    T  Div. Finish   Playoffs   \n",
      "\n",
      "        PF      PA  ...     Yds.1           T/G          Pts±          Yds±  \\\n",
      "0      155     192  ...        28            30            27            24   \n",
      "1      407     303  ...        14             5             7            13   \n",
      "2      360     341  ...         4            19            12             7   \n",
      "3      382     252  ...         1            12             5             1   \n",
      "4      327     307  ...         3             4            15            18   \n",
      "..     ...     ...  ...       ...           ...           ...           ...   \n",
      "59     309     390  ...         9             4            10            10   \n",
      "60     254     410  ...        12            13            14            13   \n",
      "61     285     407  ...        14             6            12            14   \n",
      "62  Points  Points  ...  Def Rank  Overall Rank  Overall Rank  Overall Rank   \n",
      "63      PF      PA  ...       Yds           T/G          Pts±          Yds±   \n",
      "\n",
      "          out of                   MoV                   SoS  \\\n",
      "0             32                  -6.2                   1.9   \n",
      "1             32                   6.5                  -1.1   \n",
      "2             32                   1.2                  -0.6   \n",
      "3             32                   8.1                   1.0   \n",
      "4             32                   1.3                  -0.3   \n",
      "..           ...                   ...                   ...   \n",
      "59            14                  -5.8                   0.4   \n",
      "60            14                 -11.1                   4.4   \n",
      "61            14                  -8.7                   2.1   \n",
      "62  Overall Rank  Simple Rating System  Simple Rating System   \n",
      "63        out of                   MoV                   SoS   \n",
      "\n",
      "                     SRS                  OSRS                  DSRS  \n",
      "0                   -4.3                  -0.5                  -3.7  \n",
      "1                    5.4                   2.5                   2.9  \n",
      "2                    0.6                  -1.2                   1.8  \n",
      "3                    9.1                   2.3                   6.8  \n",
      "4                    0.9                  -2.6                   3.6  \n",
      "..                   ...                   ...                   ...  \n",
      "59                  -5.4                   1.7                  -7.1  \n",
      "60                  -6.7                  -0.8                  -6.0  \n",
      "61                  -6.6                   0.1                  -6.8  \n",
      "62  Simple Rating System  Simple Rating System  Simple Rating System  \n",
      "63                   SRS                  OSRS                  DSRS  \n",
      "\n",
      "[64 rows x 29 columns]]}\n"
     ]
    }
   ],
   "source": [
    "for team in teams:\n",
    "    print(team)\n",
    "    team_dict = {}\n",
    "    url = f'https://www.pro-football-reference.com/teams/{team}/'\n",
    "    team_dict[f'{team}'] = pd.read_html(url, header=1)\n",
    "    print(team_dict)\n",
    "    "
   ]
  },
  {
   "cell_type": "code",
   "execution_count": 45,
   "metadata": {},
   "outputs": [
    {
     "data": {
      "text/plain": [
       "dict_keys(['min'])"
      ]
     },
     "execution_count": 45,
     "metadata": {},
     "output_type": "execute_result"
    }
   ],
   "source": [
    "team_dict.keys()"
   ]
  },
  {
   "cell_type": "code",
   "execution_count": 19,
   "metadata": {},
   "outputs": [
    {
     "data": {
      "text/plain": [
       "Index(['Year', 'Lg', 'Tm', 'W', 'L', 'T', 'Div. Finish', 'Playoffs', 'PF',\n",
       "       'PA', 'PD', 'Coaches', 'AV', 'Passer', 'Rusher', 'Receiver', 'Pts',\n",
       "       'Yds', 'Pts.1', 'Yds.1', 'T/G', 'Pts±', 'Yds±', 'out of', 'MoV', 'SoS',\n",
       "       'SRS', 'OSRS', 'DSRS'],\n",
       "      dtype='object')"
      ]
     },
     "execution_count": 19,
     "metadata": {},
     "output_type": "execute_result"
    }
   ],
   "source": [
    "bears_season = bears[0]\n",
    "bears_season.columns"
   ]
  },
  {
   "cell_type": "code",
   "execution_count": 20,
   "metadata": {},
   "outputs": [
    {
     "name": "stdout",
     "output_type": "stream",
     "text": [
      "<class 'pandas.core.frame.DataFrame'>\n",
      "RangeIndex: 107 entries, 0 to 106\n",
      "Data columns (total 29 columns):\n",
      " #   Column       Non-Null Count  Dtype \n",
      "---  ------       --------------  ----- \n",
      " 0   Year         104 non-null    object\n",
      " 1   Lg           104 non-null    object\n",
      " 2   Tm           104 non-null    object\n",
      " 3   W            104 non-null    object\n",
      " 4   L            104 non-null    object\n",
      " 5   T            104 non-null    object\n",
      " 6   Div. Finish  104 non-null    object\n",
      " 7   Playoffs     31 non-null     object\n",
      " 8   PF           107 non-null    object\n",
      " 9   PA           107 non-null    object\n",
      " 10  PD           107 non-null    object\n",
      " 11  Coaches      104 non-null    object\n",
      " 12  AV           66 non-null     object\n",
      " 13  Passer       95 non-null     object\n",
      " 14  Rusher       95 non-null     object\n",
      " 15  Receiver     95 non-null     object\n",
      " 16  Pts          107 non-null    object\n",
      " 17  Yds          107 non-null    object\n",
      " 18  Pts.1        107 non-null    object\n",
      " 19  Yds.1        107 non-null    object\n",
      " 20  T/G          107 non-null    object\n",
      " 21  Pts±         107 non-null    object\n",
      " 22  Yds±         107 non-null    object\n",
      " 23  out of       107 non-null    object\n",
      " 24  MoV          107 non-null    object\n",
      " 25  SoS          107 non-null    object\n",
      " 26  SRS          107 non-null    object\n",
      " 27  OSRS         107 non-null    object\n",
      " 28  DSRS         107 non-null    object\n",
      "dtypes: object(29)\n",
      "memory usage: 24.4+ KB\n"
     ]
    }
   ],
   "source": [
    "bears_season.info()"
   ]
  },
  {
   "cell_type": "code",
   "execution_count": null,
   "metadata": {},
   "outputs": [],
   "source": []
  }
 ],
 "metadata": {
  "kernelspec": {
   "display_name": "Python 3",
   "language": "python",
   "name": "python3"
  },
  "language_info": {
   "codemirror_mode": {
    "name": "ipython",
    "version": 3
   },
   "file_extension": ".py",
   "mimetype": "text/x-python",
   "name": "python",
   "nbconvert_exporter": "python",
   "pygments_lexer": "ipython3",
   "version": "3.7.4"
  }
 },
 "nbformat": 4,
 "nbformat_minor": 4
}
