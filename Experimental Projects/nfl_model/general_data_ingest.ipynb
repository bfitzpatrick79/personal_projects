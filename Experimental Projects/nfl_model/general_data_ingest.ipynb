{
 "cells": [
  {
   "cell_type": "code",
   "execution_count": 1,
   "metadata": {},
   "outputs": [],
   "source": [
    "import datetime as dt\n",
    "import pandas as pd"
   ]
  },
  {
   "cell_type": "code",
   "execution_count": 2,
   "metadata": {},
   "outputs": [
    {
     "data": {
      "text/plain": [
       "32"
      ]
     },
     "execution_count": 2,
     "metadata": {},
     "output_type": "execute_result"
    }
   ],
   "source": [
    "# identifier for each team on pro-football-reference\n",
    "teams = ['crd', # cardinals\n",
    "         'atl', # falcons\n",
    "         'rav', # ravens\n",
    "         'buf', # bills\n",
    "         'car', # panthers\n",
    "         'chi', # bears\n",
    "         'cin', # bengals\n",
    "         'cle', # browns\n",
    "         'dal', # cowboys\n",
    "         'den', # denver\n",
    "         'det', # lions\n",
    "         'gnb', # packers\n",
    "         'htx', # texans\n",
    "         'clt', # colts\n",
    "         'jax', # jaguars\n",
    "         'kan', # chiefs\n",
    "         'sdg', # chargers\n",
    "         'ram', # rams\n",
    "         'mia', # dolphins\n",
    "         'min', # vikings\n",
    "         'nwe', # patriots\n",
    "         'nor', # saints\n",
    "         'nyg', # giants\n",
    "         'nyj', # jets\n",
    "         'rai', # raiders\n",
    "         'phi', # eagles\n",
    "         'pit', # steelers\n",
    "         'sfo', # 49ers\n",
    "         'sea', # seahawks\n",
    "         'tam', # buccs\n",
    "         'oti', # titans\n",
    "         'was' # football team\n",
    "        ]\n",
    "len(teams)"
   ]
  },
  {
   "cell_type": "code",
   "execution_count": 3,
   "metadata": {},
   "outputs": [],
   "source": [
    "# year range starts in 2002 because the houston texans didn't exist in a prior form, Causing it to kick an error later in the program.\n",
    "current_season = dt.date.today().year\n",
    "year_range = range(2002, current_season)\n",
    "year_dict = {}"
   ]
  },
  {
   "cell_type": "code",
   "execution_count": null,
   "metadata": {},
   "outputs": [
    {
     "name": "stdout",
     "output_type": "stream",
     "text": [
      "2002 complete\n",
      "-------------\n",
      "2003 complete\n",
      "-------------\n",
      "2004 complete\n",
      "-------------\n",
      "2005 complete\n",
      "-------------\n",
      "2006 complete\n",
      "-------------\n",
      "2007 complete\n",
      "-------------\n",
      "2008 complete\n",
      "-------------\n",
      "2009 complete\n",
      "-------------\n",
      "2010 complete\n",
      "-------------\n",
      "2011 complete\n",
      "-------------\n",
      "2012 complete\n",
      "-------------\n",
      "2013 complete\n",
      "-------------\n",
      "2014 complete\n",
      "-------------\n",
      "2015 complete\n",
      "-------------\n",
      "2016 complete\n",
      "-------------\n"
     ]
    }
   ],
   "source": [
    "%%time\n",
    "# general data ingestion for every year, every team\n",
    "\n",
    "for year in year_range:\n",
    "    temp_dict={}\n",
    "    for team in teams:\n",
    "        url = f'https://www.pro-football-reference.com/teams/{team}/{year}.htm'\n",
    "        data = pd.read_html(url, header=1)\n",
    "        temp_dict[team] = data[1]\n",
    "        temp_dict[team]['year'] = year\n",
    "        temp_dict[team]['team'] = team\n",
    "    print(f'{year} complete')\n",
    "    print('-------------')\n",
    "    year_dict[year] = temp_dict"
   ]
  },
  {
   "cell_type": "code",
   "execution_count": null,
   "metadata": {},
   "outputs": [],
   "source": [
    "# testing that I can access the dataframe\n",
    "year_dict[2002]['chi']"
   ]
  },
  {
   "cell_type": "code",
   "execution_count": null,
   "metadata": {},
   "outputs": [],
   "source": [
    "# column cleaning dictionary\n",
    "column_clean_dict =  {'Unnamed: 3':'Kickoff_time',\n",
    "     'Unnamed: 5': 'W/L',\n",
    "     'Unnamed: 8' : 'Home/Away',\n",
    "     'Tm' : 'Team_Score',\n",
    "     'Opp.1' : 'Oppo_score',\n",
    "     '1stD' : '1D_gained',\n",
    "     'TotYd' : 'Team_Total_Yards',\n",
    "     'PassY' : 'Team_Pass_Yards',\n",
    "     'RushY' : 'Team_Rush_Yards',\n",
    "     'TO' : 'team_turnover',\n",
    "     '1stD.1' : '1D_allowed',\n",
    "     'TotYd.1' : 'oppo_total_yards',\n",
    "     'PassY.1' : 'oppo_pass_yards',\n",
    "     'RushY.1' : 'oppo_rush_yards',\n",
    "     'TO.1' : 'oppo_turnover',\n",
    "     'Offense' : 'offense_expected_points',\n",
    "     'Defense' : 'defense_expected_points',\n",
    "     'Sp. Tms' : 'sp_expected_points'\n",
    "    }"
   ]
  },
  {
   "cell_type": "code",
   "execution_count": null,
   "metadata": {},
   "outputs": [],
   "source": [
    "\n",
    "# cleans and standardizes each dataframe\n",
    "for year in year_dict:\n",
    "    for team in year_dict[year]:\n",
    "        iter_df = year_dict[year][team] #for my sanity.\n",
    "        iter_df.rename(column_clean_dict, inplace=True, axis=1) # renames columns\n",
    "        iter_df.drop('Unnamed: 4', axis=1, inplace=True) # drops an unused column\n",
    "        iter_df.drop(iter_df[iter_df['Week'] == 'Playoffs'].index, inplace=True, axis=0) # drops blank row separating playoffs from regular season\n",
    "        iter_df.drop(iter_df[iter_df['Opp'] == 'Bye Week'].index, inplace=True, axis=0) # drops bye weeks, will replace in future.\n",
    "        iter_df['OT'] = iter_df['OT'].astype(str)\n",
    "        iter_df['OT'].fillna(value=0, inplace=True) # replaces NaNs in the overtime column with 0\n",
    "        iter_df['OT'].replace({'OT': 1}, inplace=True) # replaces 'OT' with 1 to signal overtime happened\n",
    "        iter_df['Home/Away'].fillna(value='HOME', inplace=True) # fills in 'HOME' for home game\n",
    "        iter_df['Home/Away'].replace({'@': 'AWAY'}, inplace=True) # fills in 'AWAY' for away game\n",
    "        iter_df['Week'] = iter_df['Week'].astype(str)\n",
    "        iter_df.dropna(inplace=True)\n",
    "        iter_df['Week'].replace({'Wild Card': 18, 'Division': 19, 'Conf. Champ.': 20, 'SuperBowl': 21}, inplace=True) # replaces str in 'Week' with playoff jgames like extension of regular season\n",
    "        iter_df['Week'] = iter_df['Week'].astype(int) # turns back to int\n",
    "        iter_df['team_turnover'].fillna(value=0, inplace=True) # fills 0s in for NaNs\n",
    "        iter_df['oppo_turnover'].fillna(value=0, inplace=True) # fills 0s in for Nans\n",
    "        \n",
    "year_dict[2006]['chi'].dtypes"
   ]
  },
  {
   "cell_type": "code",
   "execution_count": null,
   "metadata": {},
   "outputs": [],
   "source": [
    "year_dict[2006]['chi']"
   ]
  },
  {
   "cell_type": "code",
   "execution_count": null,
   "metadata": {},
   "outputs": [],
   "source": [
    "# exports each team's data as an individual sheet in case I want to come back and work with those on a focused level\n",
    "for team in teams:\n",
    "    full_team = pd.DataFrame()\n",
    "    for year in year_dict:\n",
    "        full_team = full_team.append(year_dict[year][team])\n",
    "    full_team.to_excel(r'C:\\Users\\fitzp\\Desktop\\GitR\\git_repos\\personal_projects\\Experimental Projects\\nfl_model\\data\\{}.xlsx'.format(team), sheet_name = team)"
   ]
  },
  {
   "cell_type": "code",
   "execution_count": null,
   "metadata": {},
   "outputs": [],
   "source": [
    "# combines all data into a single frame\n",
    "full_data = pd.DataFrame()\n",
    "for year in year_dict:\n",
    "    for team in teams:\n",
    "        full_data = full_data.append(year_dict[year][team])\n",
    "full_data.info()"
   ]
  },
  {
   "cell_type": "code",
   "execution_count": null,
   "metadata": {},
   "outputs": [],
   "source": [
    "full_data.to_excel('full_data_set.xlsx')"
   ]
  },
  {
   "cell_type": "code",
   "execution_count": null,
   "metadata": {},
   "outputs": [],
   "source": []
  }
 ],
 "metadata": {
  "kernelspec": {
   "display_name": "Python 3",
   "language": "python",
   "name": "python3"
  },
  "language_info": {
   "codemirror_mode": {
    "name": "ipython",
    "version": 3
   },
   "file_extension": ".py",
   "mimetype": "text/x-python",
   "name": "python",
   "nbconvert_exporter": "python",
   "pygments_lexer": "ipython3",
   "version": "3.7.4"
  }
 },
 "nbformat": 4,
 "nbformat_minor": 4
}
