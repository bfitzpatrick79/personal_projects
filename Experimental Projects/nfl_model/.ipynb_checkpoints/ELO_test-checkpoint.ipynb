{
 "cells": [
  {
   "cell_type": "code",
   "execution_count": 11,
   "metadata": {},
   "outputs": [],
   "source": [
    "import pandas as pd"
   ]
  },
  {
   "cell_type": "code",
   "execution_count": 12,
   "metadata": {},
   "outputs": [],
   "source": [
    "# using the dictionary from the data ingestion, I generate a new dictionary setting each team's ELO score to its initial value\n",
    "teams = {\n",
    "    'crd' : 'ARI', 'atl' : 'ATL','rav' : 'BAL','buf' : 'BUF', \n",
    "    'car' : 'CAR', 'chi' : 'CHI', 'cin' : 'CIN', 'cle' : 'CLE', \n",
    "    'dal' : 'DAL', 'den' : 'DEN', 'det' : 'DET', 'gnb' : 'GNB', \n",
    "    'htx' : 'HOU', 'clt' : 'IND', 'jax' : 'JAX', 'kan' : 'KAN', \n",
    "    'sdg' : 'LAC', 'ram' : 'LAR', 'mia' : 'MIA', 'min' : 'MIN', \n",
    "    'nwe' : 'NWE', 'nor' : 'NOR', 'nyg' : 'NYG', 'nyj' : 'NYJ', \n",
    "    'rai' : 'LVR', 'phi' : 'PHI', 'pit' : 'PIT', 'sfo' : 'SFO', \n",
    "    'sea' : 'SEA', 'tam' : 'TAM', 'oti' : 'TEN', 'was' : 'WAS'\n",
    "    \n",
    "}\n",
    "\n",
    "elo_dict = {}\n",
    "elo_init = 1300\n",
    "for i in teams:\n",
    "    elo_dict[teams[i]] = elo_init"
   ]
  },
  {
   "cell_type": "code",
   "execution_count": 14,
   "metadata": {},
   "outputs": [
    {
     "data": {
      "text/plain": [
       "1300"
      ]
     },
     "execution_count": 14,
     "metadata": {},
     "output_type": "execute_result"
    }
   ],
   "source": [
    "elo_dict['ARI']"
   ]
  },
  {
   "cell_type": "code",
   "execution_count": 25,
   "metadata": {},
   "outputs": [],
   "source": [
    "def elo_expected(teamA, teamB):\n",
    "    rating_A = elo_dict[teamA]\n",
    "    rating_B = elo_dict[teamB]\n",
    "    expected_A = 1 / (1 + 10 ** ((rating_B - rating_A) / 400 ))\n",
    "    expected_B = 1 / (1 + 10 ** ((rating_A - rating_B) / 400 ))\n",
    "    return [expected_A, expected_B]\n",
    "   "
   ]
  },
  {
   "cell_type": "code",
   "execution_count": 29,
   "metadata": {},
   "outputs": [
    {
     "data": {
      "text/plain": [
       "[0.9825279085051666, 0.017472091494833444]"
      ]
     },
     "execution_count": 29,
     "metadata": {},
     "output_type": "execute_result"
    }
   ],
   "source": [
    "elo_dict['ARI'] = 1500\n",
    "elo_dict['CHI'] = 800\n",
    "elo_expected('ARI', 'CHI')"
   ]
  },
  {
   "cell_type": "code",
   "execution_count": 40,
   "metadata": {},
   "outputs": [],
   "source": [
    "def elo_update(teamA, teamB, winner):\n",
    "    k = 300\n",
    "    elo_status = elo_expected(teamA, teamB)\n",
    "    if winner == 1:\n",
    "        teamA_update = elo_dict[teamA] + k * (1 - elo_status[0])\n",
    "        teamB_update = elo_dict[teamB] + k * (0 - elo_status[1])\n",
    "    else:\n",
    "        teamA_update = elo_dict[teamA] + k * (0 - elo_status[0])\n",
    "        teamB_update = elo_dict[teamB] + k * (1 - elo_status[1])\n",
    "    return [teamA_update, teamB_update]"
   ]
  },
  {
   "cell_type": "code",
   "execution_count": 41,
   "metadata": {},
   "outputs": [
    {
     "data": {
      "text/plain": [
       "[1205.24162744845, 1094.75837255155]"
      ]
     },
     "execution_count": 41,
     "metadata": {},
     "output_type": "execute_result"
    }
   ],
   "source": [
    "elo_update('ARI', 'CHI', 0)"
   ]
  },
  {
   "cell_type": "code",
   "execution_count": null,
   "metadata": {},
   "outputs": [],
   "source": []
  }
 ],
 "metadata": {
  "kernelspec": {
   "display_name": "Python 3",
   "language": "python",
   "name": "python3"
  },
  "language_info": {
   "codemirror_mode": {
    "name": "ipython",
    "version": 3
   },
   "file_extension": ".py",
   "mimetype": "text/x-python",
   "name": "python",
   "nbconvert_exporter": "python",
   "pygments_lexer": "ipython3",
   "version": "3.7.4"
  }
 },
 "nbformat": 4,
 "nbformat_minor": 4
}
